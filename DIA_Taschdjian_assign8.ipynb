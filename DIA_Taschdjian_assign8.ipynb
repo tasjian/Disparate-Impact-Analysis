{
 "cells": [
  {
   "cell_type": "markdown",
   "metadata": {},
   "source": [
    "# Taschdjian assign 8 Step 4\n",
    "\n",
    "#### Privileged group = Males\n",
    "#### Unprivileged group = females\n",
    "#### Dependent variable = DEFAULT_NEXT_MONTH\n",
    "#### Results = Male accepted: 77.05%, Female accepted: 79.64% (i.e. female more likely to get loan)"
   ]
  },
  {
   "cell_type": "code",
   "execution_count": 156,
   "metadata": {},
   "outputs": [
    {
     "data": {
      "text/html": [
       "<div>\n",
       "<style scoped>\n",
       "    .dataframe tbody tr th:only-of-type {\n",
       "        vertical-align: middle;\n",
       "    }\n",
       "\n",
       "    .dataframe tbody tr th {\n",
       "        vertical-align: top;\n",
       "    }\n",
       "\n",
       "    .dataframe thead th {\n",
       "        text-align: right;\n",
       "    }\n",
       "</style>\n",
       "<table border=\"1\" class=\"dataframe\">\n",
       "  <thead>\n",
       "    <tr style=\"text-align: right;\">\n",
       "      <th></th>\n",
       "      <th>Prevalence</th>\n",
       "      <th>Accuracy</th>\n",
       "      <th>True Positive Rate</th>\n",
       "      <th>Precision</th>\n",
       "      <th>Specificity</th>\n",
       "      <th>Negative Predicted Value</th>\n",
       "      <th>False Positive Rate</th>\n",
       "      <th>False Discovery Rate</th>\n",
       "      <th>False Negative Rate</th>\n",
       "      <th>False Omissions Rate</th>\n",
       "    </tr>\n",
       "  </thead>\n",
       "  <tbody>\n",
       "    <tr>\n",
       "      <td>female</td>\n",
       "      <td>0.207212</td>\n",
       "      <td>0.808164</td>\n",
       "      <td>0.528269</td>\n",
       "      <td>0.537770</td>\n",
       "      <td>0.881321</td>\n",
       "      <td>0.877270</td>\n",
       "      <td>0.118679</td>\n",
       "      <td>0.462230</td>\n",
       "      <td>0.471731</td>\n",
       "      <td>0.122730</td>\n",
       "    </tr>\n",
       "    <tr>\n",
       "      <td>male</td>\n",
       "      <td>0.250503</td>\n",
       "      <td>0.780558</td>\n",
       "      <td>0.520092</td>\n",
       "      <td>0.567669</td>\n",
       "      <td>0.867613</td>\n",
       "      <td>0.843972</td>\n",
       "      <td>0.132387</td>\n",
       "      <td>0.432331</td>\n",
       "      <td>0.479908</td>\n",
       "      <td>0.156028</td>\n",
       "    </tr>\n",
       "  </tbody>\n",
       "</table>\n",
       "</div>"
      ],
      "text/plain": [
       "        Prevalence  Accuracy  True Positive Rate  Precision  Specificity  \\\n",
       "female    0.207212  0.808164            0.528269   0.537770     0.881321   \n",
       "male      0.250503  0.780558            0.520092   0.567669     0.867613   \n",
       "\n",
       "        Negative Predicted Value  False Positive Rate  False Discovery Rate  \\\n",
       "female                  0.877270             0.118679              0.462230   \n",
       "male                    0.843972             0.132387              0.432331   \n",
       "\n",
       "        False Negative Rate  False Omissions Rate  \n",
       "female             0.471731              0.122730  \n",
       "male               0.479908              0.156028  "
      ]
     },
     "execution_count": 156,
     "metadata": {},
     "output_type": "execute_result"
    }
   ],
   "source": [
    "metrics_frame"
   ]
  },
  {
   "cell_type": "code",
   "execution_count": 157,
   "metadata": {},
   "outputs": [
    {
     "data": {
      "text/html": [
       "<style  type=\"text/css\" >\n",
       "    #T_a850bce2_ceea_11ea_92ea_6c96cfdfa5edrow0_col0 {\n",
       "            color:  blue;\n",
       "        }    #T_a850bce2_ceea_11ea_92ea_6c96cfdfa5edrow0_col1 {\n",
       "            color:  blue;\n",
       "        }    #T_a850bce2_ceea_11ea_92ea_6c96cfdfa5edrow0_col2 {\n",
       "            color:  blue;\n",
       "        }    #T_a850bce2_ceea_11ea_92ea_6c96cfdfa5edrow0_col3 {\n",
       "            color:  blue;\n",
       "        }    #T_a850bce2_ceea_11ea_92ea_6c96cfdfa5edrow0_col4 {\n",
       "            color:  blue;\n",
       "        }    #T_a850bce2_ceea_11ea_92ea_6c96cfdfa5edrow0_col5 {\n",
       "            color:  blue;\n",
       "        }    #T_a850bce2_ceea_11ea_92ea_6c96cfdfa5edrow0_col6 {\n",
       "            color:  blue;\n",
       "        }    #T_a850bce2_ceea_11ea_92ea_6c96cfdfa5edrow0_col7 {\n",
       "            color:  blue;\n",
       "        }    #T_a850bce2_ceea_11ea_92ea_6c96cfdfa5edrow0_col8 {\n",
       "            color:  blue;\n",
       "        }    #T_a850bce2_ceea_11ea_92ea_6c96cfdfa5edrow0_col9 {\n",
       "            color:  red;\n",
       "        }    #T_a850bce2_ceea_11ea_92ea_6c96cfdfa5edrow0_col10 {\n",
       "            color:  blue;\n",
       "        }    #T_a850bce2_ceea_11ea_92ea_6c96cfdfa5edrow0_col11 {\n",
       "            color:  red;\n",
       "        }    #T_a850bce2_ceea_11ea_92ea_6c96cfdfa5edrow0_col12 {\n",
       "            color:  blue;\n",
       "        }    #T_a850bce2_ceea_11ea_92ea_6c96cfdfa5edrow0_col13 {\n",
       "            color:  red;\n",
       "        }    #T_a850bce2_ceea_11ea_92ea_6c96cfdfa5edrow0_col14 {\n",
       "            color:  red;\n",
       "        }    #T_a850bce2_ceea_11ea_92ea_6c96cfdfa5edrow1_col0 {\n",
       "            color:  blue;\n",
       "        }    #T_a850bce2_ceea_11ea_92ea_6c96cfdfa5edrow1_col1 {\n",
       "            color:  blue;\n",
       "        }    #T_a850bce2_ceea_11ea_92ea_6c96cfdfa5edrow1_col2 {\n",
       "            color:  blue;\n",
       "        }    #T_a850bce2_ceea_11ea_92ea_6c96cfdfa5edrow1_col3 {\n",
       "            color:  blue;\n",
       "        }    #T_a850bce2_ceea_11ea_92ea_6c96cfdfa5edrow1_col4 {\n",
       "            color:  blue;\n",
       "        }    #T_a850bce2_ceea_11ea_92ea_6c96cfdfa5edrow1_col5 {\n",
       "            color:  blue;\n",
       "        }    #T_a850bce2_ceea_11ea_92ea_6c96cfdfa5edrow1_col6 {\n",
       "            color:  blue;\n",
       "        }    #T_a850bce2_ceea_11ea_92ea_6c96cfdfa5edrow1_col7 {\n",
       "            color:  blue;\n",
       "        }    #T_a850bce2_ceea_11ea_92ea_6c96cfdfa5edrow1_col8 {\n",
       "            color:  blue;\n",
       "        }    #T_a850bce2_ceea_11ea_92ea_6c96cfdfa5edrow1_col9 {\n",
       "            color:  blue;\n",
       "        }    #T_a850bce2_ceea_11ea_92ea_6c96cfdfa5edrow1_col10 {\n",
       "            color:  blue;\n",
       "        }    #T_a850bce2_ceea_11ea_92ea_6c96cfdfa5edrow1_col11 {\n",
       "            color:  blue;\n",
       "        }    #T_a850bce2_ceea_11ea_92ea_6c96cfdfa5edrow1_col12 {\n",
       "            color:  blue;\n",
       "        }    #T_a850bce2_ceea_11ea_92ea_6c96cfdfa5edrow1_col13 {\n",
       "            color:  blue;\n",
       "        }    #T_a850bce2_ceea_11ea_92ea_6c96cfdfa5edrow1_col14 {\n",
       "            color:  blue;\n",
       "        }    #T_a850bce2_ceea_11ea_92ea_6c96cfdfa5edrow2_col0 {\n",
       "            color:  blue;\n",
       "        }    #T_a850bce2_ceea_11ea_92ea_6c96cfdfa5edrow2_col1 {\n",
       "            color:  blue;\n",
       "        }    #T_a850bce2_ceea_11ea_92ea_6c96cfdfa5edrow2_col2 {\n",
       "            color:  blue;\n",
       "        }    #T_a850bce2_ceea_11ea_92ea_6c96cfdfa5edrow2_col3 {\n",
       "            color:  blue;\n",
       "        }    #T_a850bce2_ceea_11ea_92ea_6c96cfdfa5edrow2_col4 {\n",
       "            color:  blue;\n",
       "        }    #T_a850bce2_ceea_11ea_92ea_6c96cfdfa5edrow2_col5 {\n",
       "            color:  blue;\n",
       "        }    #T_a850bce2_ceea_11ea_92ea_6c96cfdfa5edrow2_col6 {\n",
       "            color:  blue;\n",
       "        }    #T_a850bce2_ceea_11ea_92ea_6c96cfdfa5edrow2_col7 {\n",
       "            color:  blue;\n",
       "        }    #T_a850bce2_ceea_11ea_92ea_6c96cfdfa5edrow2_col8 {\n",
       "            color:  blue;\n",
       "        }    #T_a850bce2_ceea_11ea_92ea_6c96cfdfa5edrow2_col9 {\n",
       "            color:  red;\n",
       "        }    #T_a850bce2_ceea_11ea_92ea_6c96cfdfa5edrow2_col10 {\n",
       "            color:  blue;\n",
       "        }    #T_a850bce2_ceea_11ea_92ea_6c96cfdfa5edrow2_col11 {\n",
       "            color:  red;\n",
       "        }    #T_a850bce2_ceea_11ea_92ea_6c96cfdfa5edrow2_col12 {\n",
       "            color:  blue;\n",
       "        }    #T_a850bce2_ceea_11ea_92ea_6c96cfdfa5edrow2_col13 {\n",
       "            color:  red;\n",
       "        }    #T_a850bce2_ceea_11ea_92ea_6c96cfdfa5edrow2_col14 {\n",
       "            color:  red;\n",
       "        }</style><table id=\"T_a850bce2_ceea_11ea_92ea_6c96cfdfa5ed\" ><thead>    <tr>        <th class=\"blank level0\" ></th>        <th class=\"col_heading level0 col0\" >Prevalence Parity</th>        <th class=\"col_heading level0 col1\" >Accuracy Parity</th>        <th class=\"col_heading level0 col2\" >True Positive Rate Parity</th>        <th class=\"col_heading level0 col3\" >Precision Parity</th>        <th class=\"col_heading level0 col4\" >Specificity Parity</th>        <th class=\"col_heading level0 col5\" >Negative Predicted Value Parity</th>        <th class=\"col_heading level0 col6\" >False Positive Rate Parity</th>        <th class=\"col_heading level0 col7\" >False Discovery Rate Parity</th>        <th class=\"col_heading level0 col8\" >False Negative Rate Parity</th>        <th class=\"col_heading level0 col9\" >False Omissions Rate Parity</th>        <th class=\"col_heading level0 col10\" >Type I Parity</th>        <th class=\"col_heading level0 col11\" >Type II Parity</th>        <th class=\"col_heading level0 col12\" >Equalized Odds</th>        <th class=\"col_heading level0 col13\" >Supervised Fairness</th>        <th class=\"col_heading level0 col14\" >Overall Fairness</th>    </tr></thead><tbody>\n",
       "                <tr>\n",
       "                        <th id=\"T_a850bce2_ceea_11ea_92ea_6c96cfdfa5edlevel0_row0\" class=\"row_heading level0 row0\" >female</th>\n",
       "                        <td id=\"T_a850bce2_ceea_11ea_92ea_6c96cfdfa5edrow0_col0\" class=\"data row0 col0\" >True</td>\n",
       "                        <td id=\"T_a850bce2_ceea_11ea_92ea_6c96cfdfa5edrow0_col1\" class=\"data row0 col1\" >True</td>\n",
       "                        <td id=\"T_a850bce2_ceea_11ea_92ea_6c96cfdfa5edrow0_col2\" class=\"data row0 col2\" >True</td>\n",
       "                        <td id=\"T_a850bce2_ceea_11ea_92ea_6c96cfdfa5edrow0_col3\" class=\"data row0 col3\" >True</td>\n",
       "                        <td id=\"T_a850bce2_ceea_11ea_92ea_6c96cfdfa5edrow0_col4\" class=\"data row0 col4\" >True</td>\n",
       "                        <td id=\"T_a850bce2_ceea_11ea_92ea_6c96cfdfa5edrow0_col5\" class=\"data row0 col5\" >True</td>\n",
       "                        <td id=\"T_a850bce2_ceea_11ea_92ea_6c96cfdfa5edrow0_col6\" class=\"data row0 col6\" >True</td>\n",
       "                        <td id=\"T_a850bce2_ceea_11ea_92ea_6c96cfdfa5edrow0_col7\" class=\"data row0 col7\" >True</td>\n",
       "                        <td id=\"T_a850bce2_ceea_11ea_92ea_6c96cfdfa5edrow0_col8\" class=\"data row0 col8\" >True</td>\n",
       "                        <td id=\"T_a850bce2_ceea_11ea_92ea_6c96cfdfa5edrow0_col9\" class=\"data row0 col9\" >False</td>\n",
       "                        <td id=\"T_a850bce2_ceea_11ea_92ea_6c96cfdfa5edrow0_col10\" class=\"data row0 col10\" >True</td>\n",
       "                        <td id=\"T_a850bce2_ceea_11ea_92ea_6c96cfdfa5edrow0_col11\" class=\"data row0 col11\" >False</td>\n",
       "                        <td id=\"T_a850bce2_ceea_11ea_92ea_6c96cfdfa5edrow0_col12\" class=\"data row0 col12\" >True</td>\n",
       "                        <td id=\"T_a850bce2_ceea_11ea_92ea_6c96cfdfa5edrow0_col13\" class=\"data row0 col13\" >False</td>\n",
       "                        <td id=\"T_a850bce2_ceea_11ea_92ea_6c96cfdfa5edrow0_col14\" class=\"data row0 col14\" >False</td>\n",
       "            </tr>\n",
       "            <tr>\n",
       "                        <th id=\"T_a850bce2_ceea_11ea_92ea_6c96cfdfa5edlevel0_row1\" class=\"row_heading level0 row1\" >male</th>\n",
       "                        <td id=\"T_a850bce2_ceea_11ea_92ea_6c96cfdfa5edrow1_col0\" class=\"data row1 col0\" >True</td>\n",
       "                        <td id=\"T_a850bce2_ceea_11ea_92ea_6c96cfdfa5edrow1_col1\" class=\"data row1 col1\" >True</td>\n",
       "                        <td id=\"T_a850bce2_ceea_11ea_92ea_6c96cfdfa5edrow1_col2\" class=\"data row1 col2\" >True</td>\n",
       "                        <td id=\"T_a850bce2_ceea_11ea_92ea_6c96cfdfa5edrow1_col3\" class=\"data row1 col3\" >True</td>\n",
       "                        <td id=\"T_a850bce2_ceea_11ea_92ea_6c96cfdfa5edrow1_col4\" class=\"data row1 col4\" >True</td>\n",
       "                        <td id=\"T_a850bce2_ceea_11ea_92ea_6c96cfdfa5edrow1_col5\" class=\"data row1 col5\" >True</td>\n",
       "                        <td id=\"T_a850bce2_ceea_11ea_92ea_6c96cfdfa5edrow1_col6\" class=\"data row1 col6\" >True</td>\n",
       "                        <td id=\"T_a850bce2_ceea_11ea_92ea_6c96cfdfa5edrow1_col7\" class=\"data row1 col7\" >True</td>\n",
       "                        <td id=\"T_a850bce2_ceea_11ea_92ea_6c96cfdfa5edrow1_col8\" class=\"data row1 col8\" >True</td>\n",
       "                        <td id=\"T_a850bce2_ceea_11ea_92ea_6c96cfdfa5edrow1_col9\" class=\"data row1 col9\" >True</td>\n",
       "                        <td id=\"T_a850bce2_ceea_11ea_92ea_6c96cfdfa5edrow1_col10\" class=\"data row1 col10\" >True</td>\n",
       "                        <td id=\"T_a850bce2_ceea_11ea_92ea_6c96cfdfa5edrow1_col11\" class=\"data row1 col11\" >True</td>\n",
       "                        <td id=\"T_a850bce2_ceea_11ea_92ea_6c96cfdfa5edrow1_col12\" class=\"data row1 col12\" >True</td>\n",
       "                        <td id=\"T_a850bce2_ceea_11ea_92ea_6c96cfdfa5edrow1_col13\" class=\"data row1 col13\" >True</td>\n",
       "                        <td id=\"T_a850bce2_ceea_11ea_92ea_6c96cfdfa5edrow1_col14\" class=\"data row1 col14\" >True</td>\n",
       "            </tr>\n",
       "            <tr>\n",
       "                        <th id=\"T_a850bce2_ceea_11ea_92ea_6c96cfdfa5edlevel0_row2\" class=\"row_heading level0 row2\" >all</th>\n",
       "                        <td id=\"T_a850bce2_ceea_11ea_92ea_6c96cfdfa5edrow2_col0\" class=\"data row2 col0\" >True</td>\n",
       "                        <td id=\"T_a850bce2_ceea_11ea_92ea_6c96cfdfa5edrow2_col1\" class=\"data row2 col1\" >True</td>\n",
       "                        <td id=\"T_a850bce2_ceea_11ea_92ea_6c96cfdfa5edrow2_col2\" class=\"data row2 col2\" >True</td>\n",
       "                        <td id=\"T_a850bce2_ceea_11ea_92ea_6c96cfdfa5edrow2_col3\" class=\"data row2 col3\" >True</td>\n",
       "                        <td id=\"T_a850bce2_ceea_11ea_92ea_6c96cfdfa5edrow2_col4\" class=\"data row2 col4\" >True</td>\n",
       "                        <td id=\"T_a850bce2_ceea_11ea_92ea_6c96cfdfa5edrow2_col5\" class=\"data row2 col5\" >True</td>\n",
       "                        <td id=\"T_a850bce2_ceea_11ea_92ea_6c96cfdfa5edrow2_col6\" class=\"data row2 col6\" >True</td>\n",
       "                        <td id=\"T_a850bce2_ceea_11ea_92ea_6c96cfdfa5edrow2_col7\" class=\"data row2 col7\" >True</td>\n",
       "                        <td id=\"T_a850bce2_ceea_11ea_92ea_6c96cfdfa5edrow2_col8\" class=\"data row2 col8\" >True</td>\n",
       "                        <td id=\"T_a850bce2_ceea_11ea_92ea_6c96cfdfa5edrow2_col9\" class=\"data row2 col9\" >False</td>\n",
       "                        <td id=\"T_a850bce2_ceea_11ea_92ea_6c96cfdfa5edrow2_col10\" class=\"data row2 col10\" >True</td>\n",
       "                        <td id=\"T_a850bce2_ceea_11ea_92ea_6c96cfdfa5edrow2_col11\" class=\"data row2 col11\" >False</td>\n",
       "                        <td id=\"T_a850bce2_ceea_11ea_92ea_6c96cfdfa5edrow2_col12\" class=\"data row2 col12\" >True</td>\n",
       "                        <td id=\"T_a850bce2_ceea_11ea_92ea_6c96cfdfa5edrow2_col13\" class=\"data row2 col13\" >False</td>\n",
       "                        <td id=\"T_a850bce2_ceea_11ea_92ea_6c96cfdfa5edrow2_col14\" class=\"data row2 col14\" >False</td>\n",
       "            </tr>\n",
       "    </tbody></table>"
      ],
      "text/plain": [
       "<pandas.io.formats.style.Styler at 0x7fb94a2ca978>"
      ]
     },
     "execution_count": 157,
     "metadata": {},
     "output_type": "execute_result"
    }
   ],
   "source": [
    "par_frame.style.applymap(color_false_red)"
   ]
  },
  {
   "cell_type": "markdown",
   "metadata": {},
   "source": [
    "## License \n",
    "\n",
    "Copyright 2019-2020 Patrick Hall and the H2O.ai team\n",
    "\n",
    "Licensed under the Apache License, Version 2.0 (the \"License\");\n",
    "you may not use this file except in compliance with the License.\n",
    "You may obtain a copy of the License at\n",
    "\n",
    "    http://www.apache.org/licenses/LICENSE-2.0\n",
    "\n",
    "Unless required by applicable law or agreed to in writing, software\n",
    "distributed under the License is distributed on an \"AS IS\" BASIS,\n",
    "WITHOUT WARRANTIES OR CONDITIONS OF ANY KIND, either express or implied.\n",
    "See the License for the specific language governing permissions and\n",
    "limitations under the License."
   ]
  },
  {
   "cell_type": "markdown",
   "metadata": {},
   "source": [
    "**DISCLAIMER:** This notebook is not legal compliance advice."
   ]
  },
  {
   "cell_type": "markdown",
   "metadata": {},
   "source": [
    "# Increase Fairness in Your Machine Learning Project with Disparate Impact Analysis using Python and H2O\n",
    "\n",
    "#### Assess if your machine learning model is treating different groups of people similarly or differently\n",
    "\n",
    "Fairness is an incredibly important, but highly complex entity. So much so that leading scholars have yet to agree on a strict definition. However, there is a practical way to discuss and handle *observational* fairness, or how your model predictions affect different groups of people. This procedure is often known as disparate impact analysis (DIA). DIA is far from perfect, as it relies heavily on user-defined thresholds and reference levels for disparity and does not attempt to remediate disparity or provide information on sources of disparity, but it is a fairly straightforward method to quantify your model’s behavior across sensitive demographic segments or other potentially interesting groups of observations. DIA is also an accepted, regulation-compliant tool for fair-lending purposes in the U.S. financial services industry. If it’s good enough for multibillion-dollar credit portfolios, it’s probably good enough for your project. \n",
    "\n",
    "This example DIA notebook starts by training a constrained, monotonic gradient boosting machine (GBM) classifier on the UCI credit card default data using the popular open source library, h2o. A probability cutoff for making credit decisions is selected by maximizing the F1 statistic and confusion matrices are generated to summarize the GBM’s decisions across male and female customers. A basic DIA procedure is then conducted using the information stored in the confusion matrices then several traditional fair lending measures are calculated. \n",
    "\n",
    "Because DIA really only considers groups of people, it's important to pair DIA with constrained models that can't treat similar people too differently. When using complex models with DIA, it's also important to look for any local, or individual, dicrimination that would not be flagged in the group quantities.\n",
    "\n",
    "For an excellent and free reference on the topics of fairness and machine learning be sure to follow the book being written by Solon Barocas, Moritz Hardt and Arvind Narayanan: https://fairmlbook.org/. \n",
    "\n",
    "For Python fairness libraries that go far beyond the scope of this notebook see: \n",
    "* aequitas: https://github.com/dssg/aequitas\n",
    "* AI Fairness 360: http://aif360.mybluemix.net/\n",
    "* Themis: https://github.com/LASER-UMASS/Themis"
   ]
  },
  {
   "cell_type": "markdown",
   "metadata": {},
   "source": [
    "#### Python imports\n",
    "In general, NumPy and Pandas will be used for data manipulation purposes and h2o will be used for modeling tasks. "
   ]
  },
  {
   "cell_type": "code",
   "execution_count": 158,
   "metadata": {},
   "outputs": [],
   "source": [
    "# imports\n",
    "\n",
    "# h2o Python API with specific classes\n",
    "import h2o                                        \n",
    "from h2o.estimators.gbm import H2OGradientBoostingEstimator # for GBM\n",
    "from h2o.grid.grid_search import H2OGridSearch \n",
    "\n",
    "import numpy as np   # array, vector, matrix calculations\n",
    "import pandas as pd  # DataFrame handling\n",
    "import shap          # for visualizing Shapley values\n",
    "\n",
    "import matplotlib.pyplot as plt # general plotting\n",
    "pd.options.display.max_columns = 999 # enable display of all columns in notebook\n",
    "\n",
    "# display plots in-notebook\n",
    "%matplotlib inline   "
   ]
  },
  {
   "cell_type": "markdown",
   "metadata": {},
   "source": [
    "Document 1) the privileged/unprivileged groups, 2) the dependent variable, 3) the quantitative results from\n",
    "applying the two fairness metrics on the classifier output associated with the original and transformed dataset,\n",
    "4) a table documenting whether there was positive, negative, or no change in each of the fairness metrics after\n",
    "transforming the dataset, after training the classifier on the original dataset, and after training the classifier on\n",
    "the transformed dataset."
   ]
  },
  {
   "cell_type": "markdown",
   "metadata": {},
   "source": [
    "#### Start h2o\n",
    "H2o is both a library and a server. The machine learning algorithms in the library take advantage of the multithreaded and distributed architecture provided by the server to train machine learning algorithms extremely efficiently. The API for the library was imported above in cell 1, but the server still needs to be started."
   ]
  },
  {
   "cell_type": "code",
   "execution_count": 159,
   "metadata": {},
   "outputs": [
    {
     "name": "stdout",
     "output_type": "stream",
     "text": [
      "Checking whether there is an H2O instance running at http://localhost:54321 . connected.\n",
      "Warning: Your H2O cluster version is too old (1 year, 2 months and 18 days)! Please download and install the latest version from http://h2o.ai/download/\n"
     ]
    },
    {
     "data": {
      "text/html": [
       "<div style=\"overflow:auto\"><table style=\"width:50%\"><tr><td>H2O cluster uptime:</td>\n",
       "<td>1 hour 45 mins</td></tr>\n",
       "<tr><td>H2O cluster timezone:</td>\n",
       "<td>America/Los_Angeles</td></tr>\n",
       "<tr><td>H2O data parsing timezone:</td>\n",
       "<td>UTC</td></tr>\n",
       "<tr><td>H2O cluster version:</td>\n",
       "<td>3.24.0.3</td></tr>\n",
       "<tr><td>H2O cluster version age:</td>\n",
       "<td>1 year, 2 months and 18 days !!!</td></tr>\n",
       "<tr><td>H2O cluster name:</td>\n",
       "<td>H2O_from_python_ztaschdjian_luk2zu</td></tr>\n",
       "<tr><td>H2O cluster total nodes:</td>\n",
       "<td>1</td></tr>\n",
       "<tr><td>H2O cluster free memory:</td>\n",
       "<td>1.459 Gb</td></tr>\n",
       "<tr><td>H2O cluster total cores:</td>\n",
       "<td>8</td></tr>\n",
       "<tr><td>H2O cluster allowed cores:</td>\n",
       "<td>8</td></tr>\n",
       "<tr><td>H2O cluster status:</td>\n",
       "<td>locked, healthy</td></tr>\n",
       "<tr><td>H2O connection url:</td>\n",
       "<td>http://localhost:54321</td></tr>\n",
       "<tr><td>H2O connection proxy:</td>\n",
       "<td>None</td></tr>\n",
       "<tr><td>H2O internal security:</td>\n",
       "<td>False</td></tr>\n",
       "<tr><td>H2O API Extensions:</td>\n",
       "<td>Amazon S3, XGBoost, Algos, AutoML, Core V3, Core V4</td></tr>\n",
       "<tr><td>Python version:</td>\n",
       "<td>3.6.9 final</td></tr></table></div>"
      ],
      "text/plain": [
       "--------------------------  ---------------------------------------------------\n",
       "H2O cluster uptime:         1 hour 45 mins\n",
       "H2O cluster timezone:       America/Los_Angeles\n",
       "H2O data parsing timezone:  UTC\n",
       "H2O cluster version:        3.24.0.3\n",
       "H2O cluster version age:    1 year, 2 months and 18 days !!!\n",
       "H2O cluster name:           H2O_from_python_ztaschdjian_luk2zu\n",
       "H2O cluster total nodes:    1\n",
       "H2O cluster free memory:    1.459 Gb\n",
       "H2O cluster total cores:    8\n",
       "H2O cluster allowed cores:  8\n",
       "H2O cluster status:         locked, healthy\n",
       "H2O connection url:         http://localhost:54321\n",
       "H2O connection proxy:\n",
       "H2O internal security:      False\n",
       "H2O API Extensions:         Amazon S3, XGBoost, Algos, AutoML, Core V3, Core V4\n",
       "Python version:             3.6.9 final\n",
       "--------------------------  ---------------------------------------------------"
      ]
     },
     "metadata": {},
     "output_type": "display_data"
    }
   ],
   "source": [
    "h2o.init(max_mem_size='2G')       # start h2o\n",
    "h2o.remove_all()                  # remove any existing data structures from h2o memory"
   ]
  },
  {
   "cell_type": "markdown",
   "metadata": {},
   "source": [
    "## 1. Download, explore, and prepare UCI credit card default data\n",
    "\n",
    "UCI credit card default data: https://archive.ics.uci.edu/ml/datasets/default+of+credit+card+clients\n",
    "\n",
    "The UCI credit card default data contains demographic and payment information about credit card customers in Taiwan in the year 2005. The data set contains 23 input variables: \n",
    "\n",
    "* **`LIMIT_BAL`**: Amount of given credit (NT dollar)\n",
    "* **`SEX`**: 1 = male; 2 = female\n",
    "* **`EDUCATION`**: 1 = graduate school; 2 = university; 3 = high school; 4 = others \n",
    "* **`MARRIAGE`**: 1 = married; 2 = single; 3 = others\n",
    "* **`AGE`**: Age in years \n",
    "* **`PAY_0`, `PAY_2` - `PAY_6`**: History of past payment; `PAY_0` = the repayment status in September, 2005; `PAY_2` = the repayment status in August, 2005; ...; `PAY_6` = the repayment status in April, 2005. The measurement scale for the repayment status is: -1 = pay duly; 1 = payment delay for one month; 2 = payment delay for two months; ...; 8 = payment delay for eight months; 9 = payment delay for nine months and above. \n",
    "* **`BILL_AMT1` - `BILL_AMT6`**: Amount of bill statement (NT dollar). `BILL_AMNT1` = amount of bill statement in September, 2005; `BILL_AMT2` = amount of bill statement in August, 2005; ...; `BILL_AMT6` = amount of bill statement in April, 2005. \n",
    "* **`PAY_AMT1` - `PAY_AMT6`**: Amount of previous payment (NT dollar). `PAY_AMT1` = amount paid in September, 2005; `PAY_AMT2` = amount paid in August, 2005; ...; `PAY_AMT6` = amount paid in April, 2005. \n",
    "\n",
    "Demographic variables will not be used as model inputs as is common in credit scoring models. However, demographic variables will be used after model training to test for disparate impact.\n",
    "\n",
    "Because h2o accepts both numeric and character inputs, some variables will be recoded into more transparent character values."
   ]
  },
  {
   "cell_type": "markdown",
   "metadata": {},
   "source": [
    "#### Import data and clean\n",
    "The credit card default data is available as an `.xls` file. Pandas reads `.xls` files automatically, so it's used to load the credit card default data and give the prediction target a shorter name: `DEFAULT_NEXT_MONTH`."
   ]
  },
  {
   "cell_type": "code",
   "execution_count": 160,
   "metadata": {},
   "outputs": [],
   "source": [
    "# import XLS file\n",
    "path = 'default_of_credit_card_clients.xls'\n",
    "data = pd.read_excel(path,\n",
    "                     skiprows=1)\n",
    "\n",
    "# remove spaces from target column name \n",
    "data = data.rename(columns={'default payment next month': 'DEFAULT_NEXT_MONTH'}) "
   ]
  },
  {
   "cell_type": "markdown",
   "metadata": {},
   "source": [
    "#### Assign modeling roles\n",
    "The shorthand name `y` is assigned to the prediction target. `X` is assigned to all other non-demographic input variables in the credit card default data except the row indentifier, `ID`."
   ]
  },
  {
   "cell_type": "code",
   "execution_count": 161,
   "metadata": {},
   "outputs": [
    {
     "name": "stdout",
     "output_type": "stream",
     "text": [
      "y = DEFAULT_NEXT_MONTH\n",
      "X = ['LIMIT_BAL', 'PAY_0', 'PAY_2', 'PAY_3', 'PAY_4', 'PAY_5', 'PAY_6', 'BILL_AMT1', 'BILL_AMT2', 'BILL_AMT3', 'BILL_AMT4', 'BILL_AMT5', 'BILL_AMT6', 'PAY_AMT1', 'PAY_AMT2', 'PAY_AMT3', 'PAY_AMT4', 'PAY_AMT5', 'PAY_AMT6']\n"
     ]
    }
   ],
   "source": [
    "# assign target and inputs for GBM\n",
    "y = 'DEFAULT_NEXT_MONTH'\n",
    "X = [name for name in data.columns if name not in [y, 'ID', 'AGE', 'EDUCATION', 'MARRIAGE', 'SEX']]\n",
    "print('y =', y)\n",
    "print('X =', X)"
   ]
  },
  {
   "cell_type": "markdown",
   "metadata": {},
   "source": [
    "#### Helper function for recoding values in the UCI credict card default data\n",
    "This simple function maps longer, more understandable character string values from the UCI credit card default data dictionary to the original integer values of the input variables found in the dataset. These character values can be used directly in h2o decision tree models, and the function returns the original Pandas DataFrame as an h2o object, an H2OFrame. H2o models cannot run on Pandas DataFrames. They require H2OFrames."
   ]
  },
  {
   "cell_type": "code",
   "execution_count": 162,
   "metadata": {},
   "outputs": [
    {
     "name": "stdout",
     "output_type": "stream",
     "text": [
      "Parse progress: |█████████████████████████████████████████████████████████| 100%\n"
     ]
    }
   ],
   "source": [
    "def recode_cc_data(frame):\n",
    "    \n",
    "    \"\"\" Recodes numeric categorical variables into categorical character variables\n",
    "    with more transparent values. \n",
    "    \n",
    "    Args:\n",
    "        frame: Pandas DataFrame version of UCI credit card default data.\n",
    "        \n",
    "    Returns: \n",
    "        H2OFrame with recoded values.\n",
    "        \n",
    "    \"\"\"\n",
    "    \n",
    "    # define recoded values\n",
    "    sex_dict = {1:'male', 2:'female'}\n",
    "    education_dict = {0:'other', 1:'graduate school', 2:'university', 3:'high school', \n",
    "                      4:'other', 5:'other', 6:'other'}\n",
    "    marriage_dict = {0:'other', 1:'married', 2:'single', 3:'divorced'}\n",
    "    \n",
    "    # recode values using Pandas apply() and anonymous function\n",
    "    frame['SEX'] = frame['SEX'].apply(lambda i: sex_dict[i])\n",
    "    frame['EDUCATION'] = frame['EDUCATION'].apply(lambda i: education_dict[i])    \n",
    "    frame['MARRIAGE'] = frame['MARRIAGE'].apply(lambda i: marriage_dict[i])           \n",
    "                \n",
    "    return h2o.H2OFrame(frame)\n",
    "\n",
    "data = recode_cc_data(data)"
   ]
  },
  {
   "cell_type": "markdown",
   "metadata": {},
   "source": [
    "#### Ensure target is handled as a categorical variable"
   ]
  },
  {
   "cell_type": "markdown",
   "metadata": {},
   "source": [
    "In h2o, a numeric variable can be treated as numeric or categorical. The target variable `DEFAULT_NEXT_MONTH` takes on values of `0` or `1`. To ensure this numeric variable is treated as a categorical variable, the `asfactor()` function is used to explicitly declare that it is a categorical variable. "
   ]
  },
  {
   "cell_type": "code",
   "execution_count": 163,
   "metadata": {},
   "outputs": [],
   "source": [
    "data[y] = data[y].asfactor() "
   ]
  },
  {
   "cell_type": "markdown",
   "metadata": {},
   "source": [
    "#### Display descriptive statistics\n",
    "The h2o `describe()` function displays a brief description of the credit card default data. Basic descriptive statistics are displayed for numeric inputs and the target. There are no missing values in this dataset."
   ]
  },
  {
   "cell_type": "code",
   "execution_count": 164,
   "metadata": {},
   "outputs": [
    {
     "name": "stdout",
     "output_type": "stream",
     "text": [
      "Rows:30000\n",
      "Cols:20\n",
      "\n",
      "\n"
     ]
    },
    {
     "data": {
      "text/html": [
       "<table>\n",
       "<thead>\n",
       "<tr><th>       </th><th>LIMIT_BAL         </th><th>PAY_0                </th><th>PAY_2              </th><th>PAY_3               </th><th>PAY_4              </th><th>PAY_5               </th><th>PAY_6              </th><th>BILL_AMT1        </th><th>BILL_AMT2        </th><th>BILL_AMT3         </th><th>BILL_AMT4         </th><th>BILL_AMT5        </th><th>BILL_AMT6        </th><th>PAY_AMT1         </th><th>PAY_AMT2         </th><th>PAY_AMT3         </th><th>PAY_AMT4          </th><th>PAY_AMT5          </th><th>PAY_AMT6         </th><th>DEFAULT_NEXT_MONTH  </th></tr>\n",
       "</thead>\n",
       "<tbody>\n",
       "<tr><td>type   </td><td>int               </td><td>int                  </td><td>int                </td><td>int                 </td><td>int                </td><td>int                 </td><td>int                </td><td>int              </td><td>int              </td><td>int               </td><td>int               </td><td>int              </td><td>int              </td><td>int              </td><td>int              </td><td>int              </td><td>int               </td><td>int               </td><td>int              </td><td>enum                </td></tr>\n",
       "<tr><td>mins   </td><td>10000.0           </td><td>-2.0                 </td><td>-2.0               </td><td>-2.0                </td><td>-2.0               </td><td>-2.0                </td><td>-2.0               </td><td>-165580.0        </td><td>-69777.0         </td><td>-157264.0         </td><td>-170000.0         </td><td>-81334.0         </td><td>-339603.0        </td><td>0.0              </td><td>0.0              </td><td>0.0              </td><td>0.0               </td><td>0.0               </td><td>0.0              </td><td>                    </td></tr>\n",
       "<tr><td>mean   </td><td>167484.32266666673</td><td>-0.016700000000000118</td><td>-0.1337666666666667</td><td>-0.16619999999999988</td><td>-0.2206666666666661</td><td>-0.26620000000000105</td><td>-0.2910999999999988</td><td>51223.33090000043</td><td>49179.07516666629</td><td>47013.154799999655</td><td>43262.94896666659 </td><td>40311.40096666682</td><td>38871.76039999976</td><td>5663.580500000035</td><td>5921.163499999979</td><td>5225.681499999981</td><td>4826.076866666652 </td><td>4799.387633333336 </td><td>5215.50256666665 </td><td>                    </td></tr>\n",
       "<tr><td>maxs   </td><td>1000000.0         </td><td>8.0                  </td><td>8.0                </td><td>8.0                 </td><td>8.0                </td><td>8.0                 </td><td>8.0                </td><td>964511.0         </td><td>983931.0         </td><td>1664089.0         </td><td>891586.0          </td><td>927171.0         </td><td>961664.0         </td><td>873552.0         </td><td>1684259.0        </td><td>896040.0         </td><td>621000.0          </td><td>426529.0          </td><td>528666.0         </td><td>                    </td></tr>\n",
       "<tr><td>sigma  </td><td>129747.66156720246</td><td>1.1238015279973332   </td><td>1.1971859730345495 </td><td>1.1968675684465686  </td><td>1.1691386224023357 </td><td>1.1331874060027525  </td><td>1.149987625607897  </td><td>73635.86057552966</td><td>71173.76878252832</td><td>69349.38742703677 </td><td>64332.856133916444</td><td>60797.15577026471</td><td>59554.1075367459 </td><td>16563.28035402577</td><td>23040.87040205719</td><td>17606.96146980311</td><td>15666.159744032062</td><td>15278.305679144742</td><td>17777.46577543531</td><td>                    </td></tr>\n",
       "<tr><td>zeros  </td><td>0                 </td><td>14737                </td><td>15730              </td><td>15764               </td><td>16455              </td><td>16947               </td><td>16286              </td><td>2008             </td><td>2506             </td><td>2870              </td><td>3195              </td><td>3506             </td><td>4020             </td><td>5249             </td><td>5396             </td><td>5968             </td><td>6408              </td><td>6703              </td><td>7173             </td><td>                    </td></tr>\n",
       "<tr><td>missing</td><td>0                 </td><td>0                    </td><td>0                  </td><td>0                   </td><td>0                  </td><td>0                   </td><td>0                  </td><td>0                </td><td>0                </td><td>0                 </td><td>0                 </td><td>0                </td><td>0                </td><td>0                </td><td>0                </td><td>0                </td><td>0                 </td><td>0                 </td><td>0                </td><td>0                   </td></tr>\n",
       "<tr><td>0      </td><td>20000.0           </td><td>2.0                  </td><td>2.0                </td><td>-1.0                </td><td>-1.0               </td><td>-2.0                </td><td>-2.0               </td><td>3913.0           </td><td>3102.0           </td><td>689.0             </td><td>0.0               </td><td>0.0              </td><td>0.0              </td><td>0.0              </td><td>689.0            </td><td>0.0              </td><td>0.0               </td><td>0.0               </td><td>0.0              </td><td>1                   </td></tr>\n",
       "<tr><td>1      </td><td>120000.0          </td><td>-1.0                 </td><td>2.0                </td><td>0.0                 </td><td>0.0                </td><td>0.0                 </td><td>2.0                </td><td>2682.0           </td><td>1725.0           </td><td>2682.0            </td><td>3272.0            </td><td>3455.0           </td><td>3261.0           </td><td>0.0              </td><td>1000.0           </td><td>1000.0           </td><td>1000.0            </td><td>0.0               </td><td>2000.0           </td><td>1                   </td></tr>\n",
       "<tr><td>2      </td><td>90000.0           </td><td>0.0                  </td><td>0.0                </td><td>0.0                 </td><td>0.0                </td><td>0.0                 </td><td>0.0                </td><td>29239.0          </td><td>14027.0          </td><td>13559.0           </td><td>14331.0           </td><td>14948.0          </td><td>15549.0          </td><td>1518.0           </td><td>1500.0           </td><td>1000.0           </td><td>1000.0            </td><td>1000.0            </td><td>5000.0           </td><td>0                   </td></tr>\n",
       "<tr><td>3      </td><td>50000.0           </td><td>0.0                  </td><td>0.0                </td><td>0.0                 </td><td>0.0                </td><td>0.0                 </td><td>0.0                </td><td>46990.0          </td><td>48233.0          </td><td>49291.0           </td><td>28314.0           </td><td>28959.0          </td><td>29547.0          </td><td>2000.0           </td><td>2019.0           </td><td>1200.0           </td><td>1100.0            </td><td>1069.0            </td><td>1000.0           </td><td>0                   </td></tr>\n",
       "<tr><td>4      </td><td>50000.0           </td><td>-1.0                 </td><td>0.0                </td><td>-1.0                </td><td>0.0                </td><td>0.0                 </td><td>0.0                </td><td>8617.0           </td><td>5670.0           </td><td>35835.0           </td><td>20940.0           </td><td>19146.0          </td><td>19131.0          </td><td>2000.0           </td><td>36681.0          </td><td>10000.0          </td><td>9000.0            </td><td>689.0             </td><td>679.0            </td><td>0                   </td></tr>\n",
       "<tr><td>5      </td><td>50000.0           </td><td>0.0                  </td><td>0.0                </td><td>0.0                 </td><td>0.0                </td><td>0.0                 </td><td>0.0                </td><td>64400.0          </td><td>57069.0          </td><td>57608.0           </td><td>19394.0           </td><td>19619.0          </td><td>20024.0          </td><td>2500.0           </td><td>1815.0           </td><td>657.0            </td><td>1000.0            </td><td>1000.0            </td><td>800.0            </td><td>0                   </td></tr>\n",
       "<tr><td>6      </td><td>500000.0          </td><td>0.0                  </td><td>0.0                </td><td>0.0                 </td><td>0.0                </td><td>0.0                 </td><td>0.0                </td><td>367965.0         </td><td>412023.0         </td><td>445007.0          </td><td>542653.0          </td><td>483003.0         </td><td>473944.0         </td><td>55000.0          </td><td>40000.0          </td><td>38000.0          </td><td>20239.0           </td><td>13750.0           </td><td>13770.0          </td><td>0                   </td></tr>\n",
       "<tr><td>7      </td><td>100000.0          </td><td>0.0                  </td><td>-1.0               </td><td>-1.0                </td><td>0.0                </td><td>0.0                 </td><td>-1.0               </td><td>11876.0          </td><td>380.0            </td><td>601.0             </td><td>221.0             </td><td>-159.0           </td><td>567.0            </td><td>380.0            </td><td>601.0            </td><td>0.0              </td><td>581.0             </td><td>1687.0            </td><td>1542.0           </td><td>0                   </td></tr>\n",
       "<tr><td>8      </td><td>140000.0          </td><td>0.0                  </td><td>0.0                </td><td>2.0                 </td><td>0.0                </td><td>0.0                 </td><td>0.0                </td><td>11285.0          </td><td>14096.0          </td><td>12108.0           </td><td>12211.0           </td><td>11793.0          </td><td>3719.0           </td><td>3329.0           </td><td>0.0              </td><td>432.0            </td><td>1000.0            </td><td>1000.0            </td><td>1000.0           </td><td>0                   </td></tr>\n",
       "<tr><td>9      </td><td>20000.0           </td><td>-2.0                 </td><td>-2.0               </td><td>-2.0                </td><td>-2.0               </td><td>-1.0                </td><td>-1.0               </td><td>0.0              </td><td>0.0              </td><td>0.0               </td><td>0.0               </td><td>13007.0          </td><td>13912.0          </td><td>0.0              </td><td>0.0              </td><td>0.0              </td><td>13007.0           </td><td>1122.0            </td><td>0.0              </td><td>0                   </td></tr>\n",
       "</tbody>\n",
       "</table>"
      ]
     },
     "metadata": {},
     "output_type": "display_data"
    }
   ],
   "source": [
    "data[X + [y]].describe()"
   ]
  },
  {
   "cell_type": "markdown",
   "metadata": {},
   "source": [
    "## 2. Train an H2O GBM classifier"
   ]
  },
  {
   "cell_type": "markdown",
   "metadata": {},
   "source": [
    "#### Split data into training and test sets for early stopping\n",
    "The credit card default data is split into training and test sets to monitor and prevent overtraining. Reproducibility is also an important factor in creating trustworthy models, and randomly splitting datasets can introduce randomness in model predictions and other results. A random seed is used here to ensure the data split is reproducible."
   ]
  },
  {
   "cell_type": "code",
   "execution_count": 165,
   "metadata": {},
   "outputs": [
    {
     "name": "stdout",
     "output_type": "stream",
     "text": [
      "Train data rows = 21060, columns = 25\n",
      "Test data rows = 8940, columns = 25\n"
     ]
    }
   ],
   "source": [
    "# split into training and validation\n",
    "train, test = data.split_frame([0.7], seed=12345)\n",
    "\n",
    "# summarize split\n",
    "print('Train data rows = %d, columns = %d' % (train.shape[0], train.shape[1]))\n",
    "print('Test data rows = %d, columns = %d' % (test.shape[0], test.shape[1]))"
   ]
  },
  {
   "cell_type": "markdown",
   "metadata": {},
   "source": [
    "#### Establish monotonicity constraints based on Pearson correlation\n",
    "In general for high-stakes situations, it's best to use constrained machine learning models. Constrained models are easier to explain and to test for disparate impact. (Constrained models may also generalize better in low signal-to-noise scenarios.) Very complex models may be nearly impossible to test for disparate impact, as they can treat similar individuals quite differently, making it possible for local instances of discrimination to occur and not be detected by disparate impact testing. \n",
    "\n",
    "This GBM model will be constrained using the pairwise Pearson correlation between the inputs and the targets to establish the direction of the monotonicity constraints. H2o expects a dictionary with input variable names as keys and values of 1 for a positive monotonic constrain, 0 for no constraint, and -1 for a negative monotonic constraint."
   ]
  },
  {
   "cell_type": "code",
   "execution_count": 166,
   "metadata": {},
   "outputs": [
    {
     "name": "stdout",
     "output_type": "stream",
     "text": [
      "           DEFAULT_NEXT_MONTH\n",
      "LIMIT_BAL           -0.151732\n",
      "PAY_0                0.318419\n",
      "PAY_2                0.250650\n",
      "PAY_3                0.220672\n",
      "PAY_4                0.201708\n",
      "PAY_5                0.193368\n",
      "PAY_6                0.183716\n",
      "BILL_AMT1           -0.023252\n",
      "BILL_AMT2           -0.019563\n",
      "BILL_AMT3           -0.021105\n",
      "BILL_AMT4           -0.018092\n",
      "BILL_AMT5           -0.012072\n",
      "BILL_AMT6           -0.011350\n",
      "PAY_AMT1            -0.085398\n",
      "PAY_AMT2            -0.062419\n",
      "PAY_AMT3            -0.069603\n",
      "PAY_AMT4            -0.055825\n",
      "PAY_AMT5            -0.051942\n",
      "PAY_AMT6            -0.047694\n",
      "\n",
      " {'LIMIT_BAL': -1, 'PAY_0': 1, 'PAY_2': 1, 'PAY_3': 1, 'PAY_4': 1, 'PAY_5': 1, 'PAY_6': 1, 'BILL_AMT1': -1, 'BILL_AMT2': -1, 'BILL_AMT3': -1, 'BILL_AMT4': -1, 'BILL_AMT5': -1, 'BILL_AMT6': -1, 'PAY_AMT1': -1, 'PAY_AMT2': -1, 'PAY_AMT3': -1, 'PAY_AMT4': -1, 'PAY_AMT5': -1, 'PAY_AMT6': -1}\n"
     ]
    }
   ],
   "source": [
    "# display Pearson correlation between inputs and targets\n",
    "print(pd.DataFrame(test.as_data_frame()[X + [y]].corr()[y]).iloc[:-1])\n",
    "\n",
    "# positive Pearson correlation w/ P_DEFAULT_NEXT_MONTH == positive constraint == 1\n",
    "# negative Pearson correlation w/ P_DEFAULT_NEXT_MONTH == negative constraint == -1\n",
    "names = list(test.as_data_frame()[X + [y]].corr()[y].index)[:-1]\n",
    "signs = list([int(i) for i in np.sign(test.as_data_frame()[X + [y]].corr()[y].values[:-1])])\n",
    "\n",
    "mc = {}\n",
    "for i, name in enumerate(names):\n",
    "    mc[name] = signs[i]\n",
    "\n",
    "print('\\n', mc)"
   ]
  },
  {
   "cell_type": "markdown",
   "metadata": {},
   "source": [
    "#### Train h2o GBM classifier with monotonicity constraints\n",
    "Many tuning parameters must be specified to train a GBM using h2o. Typically a grid search would be performed to identify the best parameters for a given modeling task using the `H2OGridSearch` class. For brevity's sake, a previously-discovered set of good tuning parameters are specified here. Because gradient boosting methods typically resample training data, an additional random seed is also specified for the h2o GBM using the `seed` parameter to create reproducible predictions, error rates, and variable importance values. To avoid overfitting, the `stopping_rounds` parameter is used to stop the training process after the test error fails to decrease for 5 iterations. Monotonicity constraints are passed to the GBM using the `monotone_constraints` parameter."
   ]
  },
  {
   "cell_type": "code",
   "execution_count": 167,
   "metadata": {},
   "outputs": [
    {
     "name": "stdout",
     "output_type": "stream",
     "text": [
      "gbm Model Build progress: |███████████████████████████████████████████████| 100%\n",
      "GBM Test AUC = 0.77\n"
     ]
    }
   ],
   "source": [
    "# initialize GBM model\n",
    "model = H2OGradientBoostingEstimator(ntrees=150,              # maximum 150 trees in GBM\n",
    "                                     max_depth=4,             # trees can have maximum depth of 4\n",
    "                                     sample_rate=0.9,         # use 90% of rows in each iteration (tree)\n",
    "                                     col_sample_rate=0.9,     # use 90% of variables in each iteration (tree)\n",
    "                                     #balance_classes=True,   # sample to balance 0/1 distribution of target - can help LOCO\n",
    "                                     stopping_rounds=5,       # stop if validation error does not decrease for 5 iterations (trees)\n",
    "                                     score_tree_interval=1,   # for reproducibility, set higher for bigger data\n",
    "                                     monotone_constraints=mc, # enforces monotonicity wrt each input\n",
    "                                     model_id='dia_gbm',      # for locating the model in Flow UI \n",
    "                                     seed=12345)              # for reproducibility\n",
    "\n",
    "# train a GBM model\n",
    "model.train(y=y, x=X, training_frame=train, validation_frame=test)\n",
    "\n",
    "# print AUC\n",
    "print('GBM Test AUC = %.2f' % model.auc(valid=True))\n",
    "\n",
    "# uncomment to see model details\n",
    "# print(model) "
   ]
  },
  {
   "cell_type": "markdown",
   "metadata": {},
   "source": [
    "#### Display Shapley variable importance\n",
    "Shapley values are a locally-accurate and globally consistent variable importance metric. Instead of relying on traditional single-value variable importance measures, local Shapley values for each input will be calculated and aggregated below to get a more holistic and consisent measurement for the global importance of each input variable. "
   ]
  },
  {
   "cell_type": "code",
   "execution_count": 168,
   "metadata": {},
   "outputs": [
    {
     "data": {
      "image/png": "[encoded data removed]",
      "text/plain": [
       "<Figure size 576x655.2 with 1 Axes>"
      ]
     },
     "metadata": {
      "needs_background": "light"
     },
     "output_type": "display_data"
    }
   ],
   "source": [
    "contributions = model.predict_contributions(test)\n",
    "contributions_matrix = contributions.as_data_frame().values\n",
    "shap_values = contributions_matrix[:,:-1]\n",
    "shap.summary_plot(shap_values, X, plot_type='bar', color='royalblue')"
   ]
  },
  {
   "cell_type": "markdown",
   "metadata": {},
   "source": [
    "Repayment `PAY_*` variables appear to be most important in this model along with a credit limit, `LIMIT_BAL`.\n",
    "\n",
    "(In a more realistic scenario, credit limit would likely not be used as a model input because it could cause target leakage. It's used here in this small data example to improve model accuracy.)"
   ]
  },
  {
   "cell_type": "markdown",
   "metadata": {},
   "source": [
    "# 3. Select a Probability Cutoff by Maximizing F1 Statistic"
   ]
  },
  {
   "cell_type": "markdown",
   "metadata": {},
   "source": [
    "#### Bind model predictions to test data for further calculations\n",
    "Model predictions will be used in numerous subsequent calculations."
   ]
  },
  {
   "cell_type": "code",
   "execution_count": 169,
   "metadata": {},
   "outputs": [
    {
     "name": "stdout",
     "output_type": "stream",
     "text": [
      "gbm prediction progress: |████████████████████████████████████████████████| 100%\n"
     ]
    }
   ],
   "source": [
    "# cbind predictions to training frame\n",
    "# give them a nice name\n",
    "yhat = 'p_DEFAULT_NEXT_MONTH'\n",
    "preds1 = test['ID'].cbind(model.predict(test).drop(['predict', 'p0']))\n",
    "preds1.columns = ['ID', yhat]\n",
    "test_yhat = test.cbind(preds1[yhat]).as_data_frame()\n",
    "test_yhat.reset_index(drop=True, inplace=True) # necessary for later searches/joins"
   ]
  },
  {
   "cell_type": "markdown",
   "metadata": {},
   "source": [
    "#### Function to calculate PR-AUC Curve\n",
    "\n",
    "Predictive models often produce probabilities, not decisions. So to make a decision with a model-generated predicted probability for any one customer, you must specify a numeric cutoff above which we say a customer will default and below which we say they will not default. Cutoffs play a crucial role in DIA as they impact the underlying measurements used to calculate diparity. In fact, tuning cutoffs carefully is a potential remdiation tactic for any discovered disparity. There are many accepted ways to select a cutoff (besides simply using 0.5) and in this notebook the cutoff will be selected by striking a balance between the model's recall (true positive rate) and it's precision using the F1 statistic. Using precision and recall to select a cutoff is sometimes seen as more robust to imbalanced data than the standard ROC approach. Maximizing F1 typically results in a good balance between sensitivity and precision. \n",
    "\n",
    "Selecting a cutoff can be done intervactively with h2o Flow as well. Enter the url: http://localhost:54321/flow/index.html (or your H2O Connection URL displayed in cell 2) into your browser. Select `Models` -> `List all models` -> `dia_gbm` and you should see an interactive ROC curve where you can pick your own cutoff.\n",
    "\n",
    "To learn more about confusion matrices see: https://en.wikipedia.org/wiki/Confusion_matrix.\n",
    "\n",
    "**Note:** h2o supports `pr_auc` directly: http://docs.h2o.ai/h2o/latest-stable/h2o-py/docs/metrics.html#h2o.model.metrics_base.MetricsBase.pr_auc. This utility function is used here to give more control over the plotting of the PR curve below."
   ]
  },
  {
   "cell_type": "code",
   "execution_count": 170,
   "metadata": {},
   "outputs": [],
   "source": [
    "def get_prauc(frame, y, yhat, pos=1, neg=0, res=0.01):\n",
    "    \n",
    "    \"\"\" Calculates precision, recall, and f1 for a pandas dataframe of y and yhat values.\n",
    "    \n",
    "    Args:\n",
    "        frame: Pandas dataframe of actual (y) and predicted (yhat) values.\n",
    "        y: Name of actual value column.\n",
    "        yhat: Name of predicted value column.\n",
    "        pos: Primary target value, default 1.\n",
    "        neg: Secondary target value, default 0.\n",
    "        res: Resolution by which to loop through cutoffs, default 0.01.\n",
    "    \n",
    "    Returns:\n",
    "        Pandas dataframe of precision, recall, and f1 values. \n",
    "    \"\"\"\n",
    "    \n",
    "    frame_ = frame.copy(deep=True) # don't destroy original data\n",
    "    dname = 'd_' + str(y) # column for predicted decisions\n",
    "    eps = 1e-20 # for safe numerical operations\n",
    "    \n",
    "    # init p-r roc frame\n",
    "    prauc_frame = pd.DataFrame(columns=['cutoff', 'recall', 'precision', 'f1'])\n",
    "    \n",
    "    # loop through cutoffs to create p-r roc frame\n",
    "    for cutoff in np.arange(0, 1 + res, res):\n",
    "\n",
    "        # binarize decision to create confusion matrix values\n",
    "        frame_[dname] = np.where(frame_[yhat] > cutoff , 1, 0)\n",
    "        \n",
    "        # calculate confusion matrix values\n",
    "        tp = frame_[(frame_[dname] == pos) & (frame_[y] == pos)].shape[0]\n",
    "        fp = frame_[(frame_[dname] == pos) & (frame_[y] == neg)].shape[0]\n",
    "        tn = frame_[(frame_[dname] == neg) & (frame_[y] == neg)].shape[0]\n",
    "        fn = frame_[(frame_[dname] == neg) & (frame_[y] == pos)].shape[0]\n",
    "        \n",
    "        # calculate precision, recall, and f1\n",
    "        recall = (tp + eps)/((tp + fn) + eps)\n",
    "        precision = (tp + eps)/((tp + fp) + eps)\n",
    "        f1 = 2/((1/(recall + eps)) + (1/(precision + eps)))\n",
    "        \n",
    "        # add new values to frame\n",
    "        prauc_frame = prauc_frame.append({'cutoff': cutoff,\n",
    "                                          'recall': recall,\n",
    "                                          'precision': precision,\n",
    "                                          'f1': f1}, \n",
    "                                          ignore_index=True)\n",
    "    \n",
    "    # housekeeping\n",
    "    del frame_\n",
    "    \n",
    "    return prauc_frame\n",
    "        \n",
    "prauc_frame = get_prauc(test_yhat, 'DEFAULT_NEXT_MONTH', 'p_DEFAULT_NEXT_MONTH')"
   ]
  },
  {
   "cell_type": "markdown",
   "metadata": {},
   "source": [
    "#### Select best cutoff"
   ]
  },
  {
   "cell_type": "code",
   "execution_count": 171,
   "metadata": {},
   "outputs": [
    {
     "name": "stdout",
     "output_type": "stream",
     "text": [
      "0.27\n"
     ]
    }
   ],
   "source": [
    "best_cut = prauc_frame.loc[prauc_frame['f1'].idxmax(), 'cutoff'] # Find cutoff w/ max F1\n",
    "### !!! UNCOMMENT LINES BELOW TO REMEDIATE MINOR FAIRNESS ISSUES !!! ###\n",
    "# best_cut = 0.3  # min threshold with overall fairness\n",
    "# best_cut = 0.46 # max accuracy\n",
    "# best_cut = 0.35 # max MCC\n",
    "print('%.2f' % best_cut)"
   ]
  },
  {
   "cell_type": "markdown",
   "metadata": {},
   "source": [
    "#### Plot PR-AUC Curve\n",
    "\n",
    "An area under the curve for precision and recall (PR-AUC) plot is a typical way to visualize recall and precision for a predictive model. The F1 statistic is the harmonic mean of recall and precision, and we can visualize where F1 is maximized on with the AUC-PR curve."
   ]
  },
  {
   "cell_type": "code",
   "execution_count": 172,
   "metadata": {},
   "outputs": [
    {
     "data": {
      "image/png": "[encoded data removed]",
      "text/plain": [
       "<Figure size 432x288 with 1 Axes>"
      ]
     },
     "metadata": {
      "needs_background": "light"
     },
     "output_type": "display_data"
    }
   ],
   "source": [
    "# Plot P-R AUC w/ best cutoff\n",
    "title_ = 'P-R Curve: Cutoff = ' + str(best_cut)\n",
    "ax = prauc_frame.plot(x='recall', y='precision', kind='scatter', title=title_, xlim=[0,1])\n",
    "_ = ax.axvline(best_cut, color='r')"
   ]
  },
  {
   "cell_type": "markdown",
   "metadata": {},
   "source": [
    "In h2o Flow a traditional ROC curve is displayed, in which true positive rate is plotted against false positive rate. You can still use h2o Flow and the traditional ROC curve to verify that F1 is maximized at a probability cutoff of ~ 0.27."
   ]
  },
  {
   "cell_type": "markdown",
   "metadata": {},
   "source": [
    "# 4. Report Raw Confusion Matrices\n",
    "\n",
    "The basic DIA procedure in this notebook is based on measurements found commonly in confusion matrices, so confusion matrices are calculated as a precursor to DIA and to provide a basic summary of the GBM's behavior in general and across men and women."
   ]
  },
  {
   "cell_type": "markdown",
   "metadata": {},
   "source": [
    "#### Function to print confusion matrices by an input variable"
   ]
  },
  {
   "cell_type": "code",
   "execution_count": 173,
   "metadata": {},
   "outputs": [
    {
     "name": "stdout",
     "output_type": "stream",
     "text": [
      "Confusion matrix:\n"
     ]
    },
    {
     "data": {
      "text/html": [
       "<div>\n",
       "<style scoped>\n",
       "    .dataframe tbody tr th:only-of-type {\n",
       "        vertical-align: middle;\n",
       "    }\n",
       "\n",
       "    .dataframe tbody tr th {\n",
       "        vertical-align: top;\n",
       "    }\n",
       "\n",
       "    .dataframe thead th {\n",
       "        text-align: right;\n",
       "    }\n",
       "</style>\n",
       "<table border=\"1\" class=\"dataframe\">\n",
       "  <thead>\n",
       "    <tr style=\"text-align: right;\">\n",
       "      <th></th>\n",
       "      <th>actual: 1</th>\n",
       "      <th>actual: 0</th>\n",
       "    </tr>\n",
       "  </thead>\n",
       "  <tbody>\n",
       "    <tr>\n",
       "      <td>predicted: 1</td>\n",
       "      <td>1051</td>\n",
       "      <td>859</td>\n",
       "    </tr>\n",
       "    <tr>\n",
       "      <td>predicted: 0</td>\n",
       "      <td>952</td>\n",
       "      <td>6078</td>\n",
       "    </tr>\n",
       "  </tbody>\n",
       "</table>\n",
       "</div>"
      ],
      "text/plain": [
       "             actual: 1 actual: 0\n",
       "predicted: 1      1051       859\n",
       "predicted: 0       952      6078"
      ]
     },
     "execution_count": 173,
     "metadata": {},
     "output_type": "execute_result"
    }
   ],
   "source": [
    "def get_confusion_matrix(frame, y, yhat, by=None, level=None, cutoff=0.5):\n",
    "\n",
    "    \"\"\" Creates confusion matrix from pandas dataframe of y and yhat values, can be sliced \n",
    "        by a variable and level.\n",
    "    \n",
    "    Args:\n",
    "        frame: Pandas dataframe of actual (y) and predicted (yhat) values.\n",
    "        y: Name of actual value column.\n",
    "        yhat: Name of predicted value column.\n",
    "        by: By variable to slice frame before creating confusion matrix, default None.\n",
    "        level: Value of by variable to slice frame before creating confusion matrix, default None.\n",
    "        cutoff: Cutoff threshold for confusion matrix, default 0.5. \n",
    "\n",
    "    Returns:\n",
    "        Confusion matrix as pandas dataframe. \n",
    "    \"\"\"\n",
    "    \n",
    "    # determine levels of target (y) variable\n",
    "    # sort for consistency\n",
    "    level_list = list(frame[y].unique())\n",
    "    level_list.sort(reverse=True)\n",
    "\n",
    "    # init confusion matrix\n",
    "    cm_frame = pd.DataFrame(columns=['actual: ' +  str(i) for i in level_list], \n",
    "                            index=['predicted: ' + str(i) for i in level_list])\n",
    "    \n",
    "    # don't destroy original data\n",
    "    frame_ = frame.copy(deep=True)\n",
    "    \n",
    "    # convert numeric predictions to binary decisions using cutoff\n",
    "    dname = 'd_' + str(y)\n",
    "    frame_[dname] = np.where(frame_[yhat] > cutoff , 1, 0)\n",
    "    \n",
    "    # slice frame\n",
    "    if (by is not None) & (level is not None):\n",
    "        frame_ = frame_[frame[by] == level]\n",
    "    \n",
    "    # calculate size of each confusion matrix value\n",
    "    for i, lev_i in enumerate(level_list):\n",
    "        for j, lev_j in enumerate(level_list):\n",
    "            cm_frame.iat[j, i] = frame_[(frame_[y] == lev_i) & (frame_[dname] == lev_j)].shape[0]\n",
    "            # i, j vs. j, i nasty little bug ... updated 8/30/19\n",
    "    \n",
    "    # output results\n",
    "    if by is None:\n",
    "        print('Confusion matrix:')\n",
    "    else:\n",
    "        print('Confusion matrix by ' + by + '=' + level)\n",
    "    \n",
    "    return cm_frame\n",
    "    \n",
    "    \n",
    "get_confusion_matrix(test_yhat, 'DEFAULT_NEXT_MONTH', 'p_DEFAULT_NEXT_MONTH', cutoff=best_cut)"
   ]
  },
  {
   "cell_type": "markdown",
   "metadata": {},
   "source": [
    "The general confusion matrix shows that the GBM is more accurate than not because the true positive and true negative cells contain the largest values by far. But the GBM seems to make a larger number of type II errors or false negative predictions. False negatives can be a disparity issue, because for complex reasons, many credit scoring and other models tend to over-estimate the likelihood of non-reference groups - typically people other than white males - to default. This is both a sociological fairness problem and a financial problem if an unpriviledged group is not recieving the credit they deserve, in favor of undeserving white males. Deserving people miss out on potentially life-changing credit and lenders incur large write-off costs."
   ]
  },
  {
   "cell_type": "markdown",
   "metadata": {},
   "source": [
    "#### Report confusion matrices by `SEX`\n",
    "\n",
    "The only values for `SEX` in the dataset are `female` and `male`. "
   ]
  },
  {
   "cell_type": "code",
   "execution_count": 174,
   "metadata": {},
   "outputs": [
    {
     "data": {
      "text/html": [
       "['female', 'male']"
      ],
      "text/plain": [
       "['female', 'male']"
      ]
     },
     "execution_count": 174,
     "metadata": {},
     "output_type": "execute_result"
    }
   ],
   "source": [
    "sex_levels = list(test_yhat['SEX'].unique())\n",
    "sex_levels"
   ]
  },
  {
   "cell_type": "markdown",
   "metadata": {},
   "source": [
    "#### Confusion matrix for `SEX = male`"
   ]
  },
  {
   "cell_type": "code",
   "execution_count": 175,
   "metadata": {},
   "outputs": [
    {
     "name": "stdout",
     "output_type": "stream",
     "text": [
      "Confusion matrix by SEX=male\n"
     ]
    },
    {
     "data": {
      "text/html": [
       "<div>\n",
       "<style scoped>\n",
       "    .dataframe tbody tr th:only-of-type {\n",
       "        vertical-align: middle;\n",
       "    }\n",
       "\n",
       "    .dataframe tbody tr th {\n",
       "        vertical-align: top;\n",
       "    }\n",
       "\n",
       "    .dataframe thead th {\n",
       "        text-align: right;\n",
       "    }\n",
       "</style>\n",
       "<table border=\"1\" class=\"dataframe\">\n",
       "  <thead>\n",
       "    <tr style=\"text-align: right;\">\n",
       "      <th></th>\n",
       "      <th>actual: 1</th>\n",
       "      <th>actual: 0</th>\n",
       "    </tr>\n",
       "  </thead>\n",
       "  <tbody>\n",
       "    <tr>\n",
       "      <td>predicted: 1</td>\n",
       "      <td>453</td>\n",
       "      <td>345</td>\n",
       "    </tr>\n",
       "    <tr>\n",
       "      <td>predicted: 0</td>\n",
       "      <td>418</td>\n",
       "      <td>2261</td>\n",
       "    </tr>\n",
       "  </tbody>\n",
       "</table>\n",
       "</div>"
      ],
      "text/plain": [
       "             actual: 1 actual: 0\n",
       "predicted: 1       453       345\n",
       "predicted: 0       418      2261"
      ]
     },
     "execution_count": 175,
     "metadata": {},
     "output_type": "execute_result"
    }
   ],
   "source": [
    "male_cm = get_confusion_matrix(test_yhat, 'DEFAULT_NEXT_MONTH', 'p_DEFAULT_NEXT_MONTH', by='SEX', level='male', cutoff=best_cut)\n",
    "male_cm"
   ]
  },
  {
   "cell_type": "markdown",
   "metadata": {},
   "source": [
    "#### Confusion matrix for `SEX = female`"
   ]
  },
  {
   "cell_type": "code",
   "execution_count": 176,
   "metadata": {},
   "outputs": [
    {
     "name": "stdout",
     "output_type": "stream",
     "text": [
      "Confusion matrix by SEX=female\n"
     ]
    },
    {
     "data": {
      "text/html": [
       "<div>\n",
       "<style scoped>\n",
       "    .dataframe tbody tr th:only-of-type {\n",
       "        vertical-align: middle;\n",
       "    }\n",
       "\n",
       "    .dataframe tbody tr th {\n",
       "        vertical-align: top;\n",
       "    }\n",
       "\n",
       "    .dataframe thead th {\n",
       "        text-align: right;\n",
       "    }\n",
       "</style>\n",
       "<table border=\"1\" class=\"dataframe\">\n",
       "  <thead>\n",
       "    <tr style=\"text-align: right;\">\n",
       "      <th></th>\n",
       "      <th>actual: 1</th>\n",
       "      <th>actual: 0</th>\n",
       "    </tr>\n",
       "  </thead>\n",
       "  <tbody>\n",
       "    <tr>\n",
       "      <td>predicted: 1</td>\n",
       "      <td>598</td>\n",
       "      <td>514</td>\n",
       "    </tr>\n",
       "    <tr>\n",
       "      <td>predicted: 0</td>\n",
       "      <td>534</td>\n",
       "      <td>3817</td>\n",
       "    </tr>\n",
       "  </tbody>\n",
       "</table>\n",
       "</div>"
      ],
      "text/plain": [
       "             actual: 1 actual: 0\n",
       "predicted: 1       598       514\n",
       "predicted: 0       534      3817"
      ]
     },
     "execution_count": 176,
     "metadata": {},
     "output_type": "execute_result"
    }
   ],
   "source": [
    "female_cm = get_confusion_matrix(test_yhat, 'DEFAULT_NEXT_MONTH', 'p_DEFAULT_NEXT_MONTH', by='SEX', level='female', cutoff=best_cut)\n",
    "female_cm"
   ]
  },
  {
   "cell_type": "markdown",
   "metadata": {},
   "source": [
    "Both confusion matrices reflect the global confusion matrix: more accurate than not with a larger number of false negative predictions (type II errors) than false positive predictions (type I errors)."
   ]
  },
  {
   "cell_type": "markdown",
   "metadata": {},
   "source": [
    "# 6. Disparate Impact Analysis (DIA)"
   ]
  },
  {
   "cell_type": "markdown",
   "metadata": {},
   "source": [
    "To perform the following basic DIA many different values from the confusion matrices reflecting different prediction behavior are calculated. These metrics essentially help us understand the GBM's overall performance and how it behaves when predicting:\n",
    "\n",
    "* Default correctly\n",
    "* Non-default correctly\n",
    "* Default incorrectly (type I errors)\n",
    "* Non-default incorrectly (type II errors)\n",
    "\n",
    "In a real-life lending scenario, type I errors essentially amount to false accusations of financial impropriety and type II errors result in awarding loans to undeserving customers. Both types of errors can be costly to the lender too. Type I errors likely result in lost interest and fees. Type II errors often result in write-offs."
   ]
  },
  {
   "cell_type": "markdown",
   "metadata": {},
   "source": [
    "#### Dictionary of metrics used to assess disparity and parity"
   ]
  },
  {
   "cell_type": "code",
   "execution_count": 177,
   "metadata": {},
   "outputs": [],
   "source": [
    "# represent metrics as dictionary for use later\n",
    "metric_dict = {\n",
    "\n",
    "#### overall performance\n",
    "'Prevalence': '(tp + fn) / (tp + tn +fp + fn)', # how much default actually happens for this group\n",
    "#'Adverse Impact': '(tp + fp) / (tp + tn + fp + fn)', # how often the model predicted default for each group   \n",
    "'Accuracy':       '(tp + tn) / (tp + tn + fp + fn)', # how often the model predicts default and non-default correctly for this group\n",
    "\n",
    "#### predicting default will happen\n",
    "# (correctly)\n",
    "'True Positive Rate': 'tp / (tp + fn)',  # out of the people in the group *that did* default, how many the model predicted *correctly* would default              \n",
    "'Precision':          'tp / (tp + fp)',  # out of the people in the group the model *predicted* would default, how many the model predicted *correctly* would default\n",
    "\n",
    "#### predicting default won't happen\n",
    "# (correctly)\n",
    "'Specificity':              'tn / (tn + fp)', # out of the people in the group *that did not* default, how many the model predicted *correctly* would not default\n",
    "'Negative Predicted Value': 'tn / (tn + fn)', # out of the people in the group the model *predicted* would not default, how many the model predicted *correctly* would not default  \n",
    "\n",
    "#### analyzing errors - type I\n",
    "# false accusations \n",
    "'False Positive Rate':  'fp / (tn + fp)', # out of the people in the group *that did not* default, how many the model predicted *incorrectly* would default\n",
    "'False Discovery Rate': 'fp / (tp + fp)', # out of the people in the group the model *predicted* would default, how many the model predicted *incorrectly* would default\n",
    "\n",
    "#### analyzing errors - type II\n",
    "# costly ommisions\n",
    "'False Negative Rate': 'fn / (tp + fn)', # out of the people in the group *that did* default, how many the model predicted *incorrectly* would not default\n",
    "'False Omissions Rate':'fn / (tn + fn)'  # out of the people in the group the model *predicted* would not default, how many the model predicted *incorrectly* would not default\n",
    "}    "
   ]
  },
  {
   "cell_type": "markdown",
   "metadata": {},
   "source": [
    "#### Utility function to translate metrics into Pandas statements"
   ]
  },
  {
   "cell_type": "code",
   "execution_count": 178,
   "metadata": {},
   "outputs": [],
   "source": [
    "# small utility function\n",
    "# translates abbreviated metric expressions into executable Python statements\n",
    "\n",
    "def cm_exp_parser(expression):\n",
    "    \n",
    "    # tp | fp       cm_dict[level].iat[0, 0] | cm_dict[level].iat[0, 1]\n",
    "    # -------  ==>  --------------------------------------------\n",
    "    # fn | tn       cm_dict[level].iat[1, 0] | cm_dict[level].iat[1, 1]\n",
    "\n",
    "    expression = expression.replace('tp', 'cm_dict[level].iat[0, 0]')\\\n",
    "                           .replace('fp', 'cm_dict[level].iat[0, 1]')\\\n",
    "                           .replace('fn', 'cm_dict[level].iat[1, 0]')\\\n",
    "                           .replace('tn', 'cm_dict[level].iat[1, 1]')\n",
    "\n",
    "    return expression\n"
   ]
  },
  {
   "cell_type": "markdown",
   "metadata": {},
   "source": [
    "#### Calculate and report metrics\n",
    "This nested loop calculates all the metrics defined above for men and women."
   ]
  },
  {
   "cell_type": "code",
   "execution_count": 179,
   "metadata": {},
   "outputs": [
    {
     "data": {
      "text/html": [
       "<div>\n",
       "<style scoped>\n",
       "    .dataframe tbody tr th:only-of-type {\n",
       "        vertical-align: middle;\n",
       "    }\n",
       "\n",
       "    .dataframe tbody tr th {\n",
       "        vertical-align: top;\n",
       "    }\n",
       "\n",
       "    .dataframe thead th {\n",
       "        text-align: right;\n",
       "    }\n",
       "</style>\n",
       "<table border=\"1\" class=\"dataframe\">\n",
       "  <thead>\n",
       "    <tr style=\"text-align: right;\">\n",
       "      <th></th>\n",
       "      <th>Prevalence</th>\n",
       "      <th>Accuracy</th>\n",
       "      <th>True Positive Rate</th>\n",
       "      <th>Precision</th>\n",
       "      <th>Specificity</th>\n",
       "      <th>Negative Predicted Value</th>\n",
       "      <th>False Positive Rate</th>\n",
       "      <th>False Discovery Rate</th>\n",
       "      <th>False Negative Rate</th>\n",
       "      <th>False Omissions Rate</th>\n",
       "    </tr>\n",
       "  </thead>\n",
       "  <tbody>\n",
       "    <tr>\n",
       "      <td>female</td>\n",
       "      <td>0.207212</td>\n",
       "      <td>0.808164</td>\n",
       "      <td>0.528269</td>\n",
       "      <td>0.537770</td>\n",
       "      <td>0.881321</td>\n",
       "      <td>0.877270</td>\n",
       "      <td>0.118679</td>\n",
       "      <td>0.462230</td>\n",
       "      <td>0.471731</td>\n",
       "      <td>0.122730</td>\n",
       "    </tr>\n",
       "    <tr>\n",
       "      <td>male</td>\n",
       "      <td>0.250503</td>\n",
       "      <td>0.780558</td>\n",
       "      <td>0.520092</td>\n",
       "      <td>0.567669</td>\n",
       "      <td>0.867613</td>\n",
       "      <td>0.843972</td>\n",
       "      <td>0.132387</td>\n",
       "      <td>0.432331</td>\n",
       "      <td>0.479908</td>\n",
       "      <td>0.156028</td>\n",
       "    </tr>\n",
       "  </tbody>\n",
       "</table>\n",
       "</div>"
      ],
      "text/plain": [
       "        Prevalence  Accuracy  True Positive Rate  Precision  Specificity  \\\n",
       "female    0.207212  0.808164            0.528269   0.537770     0.881321   \n",
       "male      0.250503  0.780558            0.520092   0.567669     0.867613   \n",
       "\n",
       "        Negative Predicted Value  False Positive Rate  False Discovery Rate  \\\n",
       "female                  0.877270             0.118679              0.462230   \n",
       "male                    0.843972             0.132387              0.432331   \n",
       "\n",
       "        False Negative Rate  False Omissions Rate  \n",
       "female             0.471731              0.122730  \n",
       "male               0.479908              0.156028  "
      ]
     },
     "execution_count": 179,
     "metadata": {},
     "output_type": "execute_result"
    }
   ],
   "source": [
    "# initialize dict of confusion matrices and corresponding rows of dataframe\n",
    "cm_dict = {'male': male_cm, \n",
    "           'female': female_cm} \n",
    "\n",
    "metrics_frame = pd.DataFrame(index=sex_levels) # frame for metrics\n",
    "\n",
    "# nested loop through:\n",
    "# - sex levels\n",
    "# - metrics \n",
    "for level in sex_levels:\n",
    "    for metric in metric_dict.keys():\n",
    "              \n",
    "        # parse metric expressions into executable pandas statements\n",
    "        expression = cm_exp_parser(metric_dict[metric])\n",
    "\n",
    "        # dynamically evaluate metrics to avoid code duplication\n",
    "        metrics_frame.loc[level, metric] = eval(expression)  \n",
    "\n",
    "# display results                \n",
    "metrics_frame"
   ]
  },
  {
   "cell_type": "markdown",
   "metadata": {},
   "source": [
    "From eyeballing the raw metrics it appears that the model is treating men and women roughly similarly as groups. (These metrics do not indicate very much about specific, individual cases of bias, but only give information for the groups as a whole.)"
   ]
  },
  {
   "cell_type": "markdown",
   "metadata": {},
   "source": [
    "#### Plot false omissions rate by `SEX`"
   ]
  },
  {
   "cell_type": "markdown",
   "metadata": {},
   "source": [
    "Because the confusion matrices indicated there might be a problem with non-default predictions, false omissions rate will be examined closely. False omissions measures how many customers the model predicted *incorrectly* would not default, out of the customers in the group the model *predicted* would not default. (Of course other metrics are important from a fairness and business perspective. For an excellent in-depth discussion and example regarding numerous disparity metrics, see: https://github.com/dssg/aequitas/blob/master/docs/source/examples/compas_demo.ipynb)"
   ]
  },
  {
   "cell_type": "code",
   "execution_count": 180,
   "metadata": {},
   "outputs": [
    {
     "data": {
      "image/png": "[encoded data removed]",
      "text/plain": [
       "<Figure size 432x288 with 1 Axes>"
      ]
     },
     "metadata": {
      "needs_background": "light"
     },
     "output_type": "display_data"
    }
   ],
   "source": [
    "_ = metrics_frame['False Omissions Rate'].plot(kind='bar', color='b', title='False Omissions Rate')"
   ]
  },
  {
   "cell_type": "markdown",
   "metadata": {},
   "source": [
    "#### Calculate and report disparity\n",
    "To calculate disparity we compare the confusion matrix for each sex to the metrics for a user-defined reference level and to user-defined thresholds. In this case, we take the class of people who seem most priviledged as the reference level, i.e. `SEX = male`. (Usually the reference level would be `race = white` or `sex = male`.) According to the four-fifths rule (https://en.wikipedia.org/wiki/Disparate_impact#The_80%_rule) thresholds are set such that metrics 20% lower or higher than the reference level metric will be flagged as disparate. **Technically, the four-fifths rule only applies to the adverse impact ratio, discussed further below, but it will be applied to all other displayed metrics as a rule of thumb.**"
   ]
  },
  {
   "cell_type": "code",
   "execution_count": 181,
   "metadata": {},
   "outputs": [
    {
     "data": {
      "text/html": [
       "<style  type=\"text/css\" >\n",
       "    #T_b0353e22_ceea_11ea_97a5_6c96cfdfa5edrow0_col0 {\n",
       "            color:  blue;\n",
       "        }    #T_b0353e22_ceea_11ea_97a5_6c96cfdfa5edrow0_col1 {\n",
       "            color:  blue;\n",
       "        }    #T_b0353e22_ceea_11ea_97a5_6c96cfdfa5edrow0_col2 {\n",
       "            color:  blue;\n",
       "        }    #T_b0353e22_ceea_11ea_97a5_6c96cfdfa5edrow0_col3 {\n",
       "            color:  blue;\n",
       "        }    #T_b0353e22_ceea_11ea_97a5_6c96cfdfa5edrow0_col4 {\n",
       "            color:  blue;\n",
       "        }    #T_b0353e22_ceea_11ea_97a5_6c96cfdfa5edrow0_col5 {\n",
       "            color:  blue;\n",
       "        }    #T_b0353e22_ceea_11ea_97a5_6c96cfdfa5edrow0_col6 {\n",
       "            color:  blue;\n",
       "        }    #T_b0353e22_ceea_11ea_97a5_6c96cfdfa5edrow0_col7 {\n",
       "            color:  blue;\n",
       "        }    #T_b0353e22_ceea_11ea_97a5_6c96cfdfa5edrow0_col8 {\n",
       "            color:  blue;\n",
       "        }    #T_b0353e22_ceea_11ea_97a5_6c96cfdfa5edrow0_col9 {\n",
       "            color:  red;\n",
       "        }    #T_b0353e22_ceea_11ea_97a5_6c96cfdfa5edrow1_col0 {\n",
       "            color:  blue;\n",
       "        }    #T_b0353e22_ceea_11ea_97a5_6c96cfdfa5edrow1_col1 {\n",
       "            color:  blue;\n",
       "        }    #T_b0353e22_ceea_11ea_97a5_6c96cfdfa5edrow1_col2 {\n",
       "            color:  blue;\n",
       "        }    #T_b0353e22_ceea_11ea_97a5_6c96cfdfa5edrow1_col3 {\n",
       "            color:  blue;\n",
       "        }    #T_b0353e22_ceea_11ea_97a5_6c96cfdfa5edrow1_col4 {\n",
       "            color:  blue;\n",
       "        }    #T_b0353e22_ceea_11ea_97a5_6c96cfdfa5edrow1_col5 {\n",
       "            color:  blue;\n",
       "        }    #T_b0353e22_ceea_11ea_97a5_6c96cfdfa5edrow1_col6 {\n",
       "            color:  blue;\n",
       "        }    #T_b0353e22_ceea_11ea_97a5_6c96cfdfa5edrow1_col7 {\n",
       "            color:  blue;\n",
       "        }    #T_b0353e22_ceea_11ea_97a5_6c96cfdfa5edrow1_col8 {\n",
       "            color:  blue;\n",
       "        }    #T_b0353e22_ceea_11ea_97a5_6c96cfdfa5edrow1_col9 {\n",
       "            color:  blue;\n",
       "        }</style><table id=\"T_b0353e22_ceea_11ea_97a5_6c96cfdfa5ed\" ><thead>    <tr>        <th class=\"blank level0\" ></th>        <th class=\"col_heading level0 col0\" >Prevalence Disparity</th>        <th class=\"col_heading level0 col1\" >Accuracy Disparity</th>        <th class=\"col_heading level0 col2\" >True Positive Rate Disparity</th>        <th class=\"col_heading level0 col3\" >Precision Disparity</th>        <th class=\"col_heading level0 col4\" >Specificity Disparity</th>        <th class=\"col_heading level0 col5\" >Negative Predicted Value Disparity</th>        <th class=\"col_heading level0 col6\" >False Positive Rate Disparity</th>        <th class=\"col_heading level0 col7\" >False Discovery Rate Disparity</th>        <th class=\"col_heading level0 col8\" >False Negative Rate Disparity</th>        <th class=\"col_heading level0 col9\" >False Omissions Rate Disparity</th>    </tr></thead><tbody>\n",
       "                <tr>\n",
       "                        <th id=\"T_b0353e22_ceea_11ea_97a5_6c96cfdfa5edlevel0_row0\" class=\"row_heading level0 row0\" >female</th>\n",
       "                        <td id=\"T_b0353e22_ceea_11ea_97a5_6c96cfdfa5edrow0_col0\" class=\"data row0 col0\" >0.827183</td>\n",
       "                        <td id=\"T_b0353e22_ceea_11ea_97a5_6c96cfdfa5edrow0_col1\" class=\"data row0 col1\" >1.03537</td>\n",
       "                        <td id=\"T_b0353e22_ceea_11ea_97a5_6c96cfdfa5edrow0_col2\" class=\"data row0 col2\" >1.01572</td>\n",
       "                        <td id=\"T_b0353e22_ceea_11ea_97a5_6c96cfdfa5edrow0_col3\" class=\"data row0 col3\" >0.94733</td>\n",
       "                        <td id=\"T_b0353e22_ceea_11ea_97a5_6c96cfdfa5edrow0_col4\" class=\"data row0 col4\" >1.0158</td>\n",
       "                        <td id=\"T_b0353e22_ceea_11ea_97a5_6c96cfdfa5edrow0_col5\" class=\"data row0 col5\" >1.03945</td>\n",
       "                        <td id=\"T_b0353e22_ceea_11ea_97a5_6c96cfdfa5edrow0_col6\" class=\"data row0 col6\" >0.896459</td>\n",
       "                        <td id=\"T_b0353e22_ceea_11ea_97a5_6c96cfdfa5edrow0_col7\" class=\"data row0 col7\" >1.06916</td>\n",
       "                        <td id=\"T_b0353e22_ceea_11ea_97a5_6c96cfdfa5edrow0_col8\" class=\"data row0 col8\" >0.982962</td>\n",
       "                        <td id=\"T_b0353e22_ceea_11ea_97a5_6c96cfdfa5edrow0_col9\" class=\"data row0 col9\" >0.78659</td>\n",
       "            </tr>\n",
       "            <tr>\n",
       "                        <th id=\"T_b0353e22_ceea_11ea_97a5_6c96cfdfa5edlevel0_row1\" class=\"row_heading level0 row1\" >male</th>\n",
       "                        <td id=\"T_b0353e22_ceea_11ea_97a5_6c96cfdfa5edrow1_col0\" class=\"data row1 col0\" >1</td>\n",
       "                        <td id=\"T_b0353e22_ceea_11ea_97a5_6c96cfdfa5edrow1_col1\" class=\"data row1 col1\" >1</td>\n",
       "                        <td id=\"T_b0353e22_ceea_11ea_97a5_6c96cfdfa5edrow1_col2\" class=\"data row1 col2\" >1</td>\n",
       "                        <td id=\"T_b0353e22_ceea_11ea_97a5_6c96cfdfa5edrow1_col3\" class=\"data row1 col3\" >1</td>\n",
       "                        <td id=\"T_b0353e22_ceea_11ea_97a5_6c96cfdfa5edrow1_col4\" class=\"data row1 col4\" >1</td>\n",
       "                        <td id=\"T_b0353e22_ceea_11ea_97a5_6c96cfdfa5edrow1_col5\" class=\"data row1 col5\" >1</td>\n",
       "                        <td id=\"T_b0353e22_ceea_11ea_97a5_6c96cfdfa5edrow1_col6\" class=\"data row1 col6\" >1</td>\n",
       "                        <td id=\"T_b0353e22_ceea_11ea_97a5_6c96cfdfa5edrow1_col7\" class=\"data row1 col7\" >1</td>\n",
       "                        <td id=\"T_b0353e22_ceea_11ea_97a5_6c96cfdfa5edrow1_col8\" class=\"data row1 col8\" >1</td>\n",
       "                        <td id=\"T_b0353e22_ceea_11ea_97a5_6c96cfdfa5edrow1_col9\" class=\"data row1 col9\" >1</td>\n",
       "            </tr>\n",
       "    </tbody></table>"
      ],
      "text/plain": [
       "<pandas.io.formats.style.Styler at 0x7fb947125da0>"
      ]
     },
     "execution_count": 181,
     "metadata": {},
     "output_type": "execute_result"
    }
   ],
   "source": [
    "ref_level = 'male' # user-defined reference level\n",
    "\n",
    "parity_threshold_low = 0.8    # user-defined low threshold value\n",
    "parity_threshold_hi = 1.25    # user-defined high threshold value\n",
    "\n",
    "# init frame to store disparity measures\n",
    "disp_frame = pd.DataFrame(index=sex_levels)\n",
    "\n",
    "# compare all metrics to reference level\n",
    "disp_frame = metrics_frame/metrics_frame.loc[ref_level, :]\n",
    "\n",
    "# change column names\n",
    "disp_frame.columns=[col + ' Disparity' for col in metrics_frame.columns]\n",
    "\n",
    "# small utility function to format pandas table output\n",
    "def disparate_red(val):\n",
    "    \n",
    "    color = 'blue' if (parity_threshold_low < val < parity_threshold_hi) else 'red'\n",
    "    return 'color: %s' % color \n",
    "\n",
    "# display results\n",
    "disp_frame.style.applymap(disparate_red)"
   ]
  },
  {
   "cell_type": "markdown",
   "metadata": {},
   "source": [
    "For the selected thresholds, the GBM appears to have only one value for metrics that is low out-of-range, false omissions rate. The flagged false omissions rate disparity indicates males may be receiving too many loans they cannot pay back, potentially preventing females from recieving these loans."
   ]
  },
  {
   "cell_type": "markdown",
   "metadata": {},
   "source": [
    "#### Plot false omissions rate disparity"
   ]
  },
  {
   "cell_type": "code",
   "execution_count": 182,
   "metadata": {},
   "outputs": [
    {
     "data": {
      "image/png": "[encoded data removed]",
      "text/plain": [
       "<Figure size 432x288 with 1 Axes>"
      ]
     },
     "metadata": {
      "needs_background": "light"
     },
     "output_type": "display_data"
    }
   ],
   "source": [
    "ax = disp_frame['False Omissions Rate Disparity'].plot(kind='bar', color='b', title='False Omissions Rate Disparity')\n",
    "_ = ax.axhline(parity_threshold_low, color='r', linestyle='--')\n",
    "_ = ax.axhline(parity_threshold_hi, color='r', linestyle='--')"
   ]
  },
  {
   "cell_type": "markdown",
   "metadata": {},
   "source": [
    "#### Assess and report parity\n",
    "A binary indication of parity for metrics is reported by simply checking whether disparity values are within the user-defined thresholds. Further parity indicators are defined as combinations of other disparity values:\n",
    "\n",
    "* Type I Parity: Both FDR Parity and FPR Parity\n",
    "* Type II Parity: Both FOR Parity and FNR Parity\n",
    "* Equalized Odds: Both FPR Parity and TPR Parity\n",
    "* Supervised Fairness: Both Type I and Type II Parity\n",
    "* Overall Fairness: Fairness across all metrics"
   ]
  },
  {
   "cell_type": "code",
   "execution_count": 183,
   "metadata": {},
   "outputs": [
    {
     "data": {
      "text/html": [
       "<style  type=\"text/css\" >\n",
       "    #T_b07073b6_ceea_11ea_a001_6c96cfdfa5edrow0_col0 {\n",
       "            color:  blue;\n",
       "        }    #T_b07073b6_ceea_11ea_a001_6c96cfdfa5edrow0_col1 {\n",
       "            color:  blue;\n",
       "        }    #T_b07073b6_ceea_11ea_a001_6c96cfdfa5edrow0_col2 {\n",
       "            color:  blue;\n",
       "        }    #T_b07073b6_ceea_11ea_a001_6c96cfdfa5edrow0_col3 {\n",
       "            color:  blue;\n",
       "        }    #T_b07073b6_ceea_11ea_a001_6c96cfdfa5edrow0_col4 {\n",
       "            color:  blue;\n",
       "        }    #T_b07073b6_ceea_11ea_a001_6c96cfdfa5edrow0_col5 {\n",
       "            color:  blue;\n",
       "        }    #T_b07073b6_ceea_11ea_a001_6c96cfdfa5edrow0_col6 {\n",
       "            color:  blue;\n",
       "        }    #T_b07073b6_ceea_11ea_a001_6c96cfdfa5edrow0_col7 {\n",
       "            color:  blue;\n",
       "        }    #T_b07073b6_ceea_11ea_a001_6c96cfdfa5edrow0_col8 {\n",
       "            color:  blue;\n",
       "        }    #T_b07073b6_ceea_11ea_a001_6c96cfdfa5edrow0_col9 {\n",
       "            color:  red;\n",
       "        }    #T_b07073b6_ceea_11ea_a001_6c96cfdfa5edrow0_col10 {\n",
       "            color:  blue;\n",
       "        }    #T_b07073b6_ceea_11ea_a001_6c96cfdfa5edrow0_col11 {\n",
       "            color:  red;\n",
       "        }    #T_b07073b6_ceea_11ea_a001_6c96cfdfa5edrow0_col12 {\n",
       "            color:  blue;\n",
       "        }    #T_b07073b6_ceea_11ea_a001_6c96cfdfa5edrow0_col13 {\n",
       "            color:  red;\n",
       "        }    #T_b07073b6_ceea_11ea_a001_6c96cfdfa5edrow0_col14 {\n",
       "            color:  red;\n",
       "        }    #T_b07073b6_ceea_11ea_a001_6c96cfdfa5edrow1_col0 {\n",
       "            color:  blue;\n",
       "        }    #T_b07073b6_ceea_11ea_a001_6c96cfdfa5edrow1_col1 {\n",
       "            color:  blue;\n",
       "        }    #T_b07073b6_ceea_11ea_a001_6c96cfdfa5edrow1_col2 {\n",
       "            color:  blue;\n",
       "        }    #T_b07073b6_ceea_11ea_a001_6c96cfdfa5edrow1_col3 {\n",
       "            color:  blue;\n",
       "        }    #T_b07073b6_ceea_11ea_a001_6c96cfdfa5edrow1_col4 {\n",
       "            color:  blue;\n",
       "        }    #T_b07073b6_ceea_11ea_a001_6c96cfdfa5edrow1_col5 {\n",
       "            color:  blue;\n",
       "        }    #T_b07073b6_ceea_11ea_a001_6c96cfdfa5edrow1_col6 {\n",
       "            color:  blue;\n",
       "        }    #T_b07073b6_ceea_11ea_a001_6c96cfdfa5edrow1_col7 {\n",
       "            color:  blue;\n",
       "        }    #T_b07073b6_ceea_11ea_a001_6c96cfdfa5edrow1_col8 {\n",
       "            color:  blue;\n",
       "        }    #T_b07073b6_ceea_11ea_a001_6c96cfdfa5edrow1_col9 {\n",
       "            color:  blue;\n",
       "        }    #T_b07073b6_ceea_11ea_a001_6c96cfdfa5edrow1_col10 {\n",
       "            color:  blue;\n",
       "        }    #T_b07073b6_ceea_11ea_a001_6c96cfdfa5edrow1_col11 {\n",
       "            color:  blue;\n",
       "        }    #T_b07073b6_ceea_11ea_a001_6c96cfdfa5edrow1_col12 {\n",
       "            color:  blue;\n",
       "        }    #T_b07073b6_ceea_11ea_a001_6c96cfdfa5edrow1_col13 {\n",
       "            color:  blue;\n",
       "        }    #T_b07073b6_ceea_11ea_a001_6c96cfdfa5edrow1_col14 {\n",
       "            color:  blue;\n",
       "        }    #T_b07073b6_ceea_11ea_a001_6c96cfdfa5edrow2_col0 {\n",
       "            color:  blue;\n",
       "        }    #T_b07073b6_ceea_11ea_a001_6c96cfdfa5edrow2_col1 {\n",
       "            color:  blue;\n",
       "        }    #T_b07073b6_ceea_11ea_a001_6c96cfdfa5edrow2_col2 {\n",
       "            color:  blue;\n",
       "        }    #T_b07073b6_ceea_11ea_a001_6c96cfdfa5edrow2_col3 {\n",
       "            color:  blue;\n",
       "        }    #T_b07073b6_ceea_11ea_a001_6c96cfdfa5edrow2_col4 {\n",
       "            color:  blue;\n",
       "        }    #T_b07073b6_ceea_11ea_a001_6c96cfdfa5edrow2_col5 {\n",
       "            color:  blue;\n",
       "        }    #T_b07073b6_ceea_11ea_a001_6c96cfdfa5edrow2_col6 {\n",
       "            color:  blue;\n",
       "        }    #T_b07073b6_ceea_11ea_a001_6c96cfdfa5edrow2_col7 {\n",
       "            color:  blue;\n",
       "        }    #T_b07073b6_ceea_11ea_a001_6c96cfdfa5edrow2_col8 {\n",
       "            color:  blue;\n",
       "        }    #T_b07073b6_ceea_11ea_a001_6c96cfdfa5edrow2_col9 {\n",
       "            color:  red;\n",
       "        }    #T_b07073b6_ceea_11ea_a001_6c96cfdfa5edrow2_col10 {\n",
       "            color:  blue;\n",
       "        }    #T_b07073b6_ceea_11ea_a001_6c96cfdfa5edrow2_col11 {\n",
       "            color:  red;\n",
       "        }    #T_b07073b6_ceea_11ea_a001_6c96cfdfa5edrow2_col12 {\n",
       "            color:  blue;\n",
       "        }    #T_b07073b6_ceea_11ea_a001_6c96cfdfa5edrow2_col13 {\n",
       "            color:  red;\n",
       "        }    #T_b07073b6_ceea_11ea_a001_6c96cfdfa5edrow2_col14 {\n",
       "            color:  red;\n",
       "        }</style><table id=\"T_b07073b6_ceea_11ea_a001_6c96cfdfa5ed\" ><thead>    <tr>        <th class=\"blank level0\" ></th>        <th class=\"col_heading level0 col0\" >Prevalence Parity</th>        <th class=\"col_heading level0 col1\" >Accuracy Parity</th>        <th class=\"col_heading level0 col2\" >True Positive Rate Parity</th>        <th class=\"col_heading level0 col3\" >Precision Parity</th>        <th class=\"col_heading level0 col4\" >Specificity Parity</th>        <th class=\"col_heading level0 col5\" >Negative Predicted Value Parity</th>        <th class=\"col_heading level0 col6\" >False Positive Rate Parity</th>        <th class=\"col_heading level0 col7\" >False Discovery Rate Parity</th>        <th class=\"col_heading level0 col8\" >False Negative Rate Parity</th>        <th class=\"col_heading level0 col9\" >False Omissions Rate Parity</th>        <th class=\"col_heading level0 col10\" >Type I Parity</th>        <th class=\"col_heading level0 col11\" >Type II Parity</th>        <th class=\"col_heading level0 col12\" >Equalized Odds</th>        <th class=\"col_heading level0 col13\" >Supervised Fairness</th>        <th class=\"col_heading level0 col14\" >Overall Fairness</th>    </tr></thead><tbody>\n",
       "                <tr>\n",
       "                        <th id=\"T_b07073b6_ceea_11ea_a001_6c96cfdfa5edlevel0_row0\" class=\"row_heading level0 row0\" >female</th>\n",
       "                        <td id=\"T_b07073b6_ceea_11ea_a001_6c96cfdfa5edrow0_col0\" class=\"data row0 col0\" >True</td>\n",
       "                        <td id=\"T_b07073b6_ceea_11ea_a001_6c96cfdfa5edrow0_col1\" class=\"data row0 col1\" >True</td>\n",
       "                        <td id=\"T_b07073b6_ceea_11ea_a001_6c96cfdfa5edrow0_col2\" class=\"data row0 col2\" >True</td>\n",
       "                        <td id=\"T_b07073b6_ceea_11ea_a001_6c96cfdfa5edrow0_col3\" class=\"data row0 col3\" >True</td>\n",
       "                        <td id=\"T_b07073b6_ceea_11ea_a001_6c96cfdfa5edrow0_col4\" class=\"data row0 col4\" >True</td>\n",
       "                        <td id=\"T_b07073b6_ceea_11ea_a001_6c96cfdfa5edrow0_col5\" class=\"data row0 col5\" >True</td>\n",
       "                        <td id=\"T_b07073b6_ceea_11ea_a001_6c96cfdfa5edrow0_col6\" class=\"data row0 col6\" >True</td>\n",
       "                        <td id=\"T_b07073b6_ceea_11ea_a001_6c96cfdfa5edrow0_col7\" class=\"data row0 col7\" >True</td>\n",
       "                        <td id=\"T_b07073b6_ceea_11ea_a001_6c96cfdfa5edrow0_col8\" class=\"data row0 col8\" >True</td>\n",
       "                        <td id=\"T_b07073b6_ceea_11ea_a001_6c96cfdfa5edrow0_col9\" class=\"data row0 col9\" >False</td>\n",
       "                        <td id=\"T_b07073b6_ceea_11ea_a001_6c96cfdfa5edrow0_col10\" class=\"data row0 col10\" >True</td>\n",
       "                        <td id=\"T_b07073b6_ceea_11ea_a001_6c96cfdfa5edrow0_col11\" class=\"data row0 col11\" >False</td>\n",
       "                        <td id=\"T_b07073b6_ceea_11ea_a001_6c96cfdfa5edrow0_col12\" class=\"data row0 col12\" >True</td>\n",
       "                        <td id=\"T_b07073b6_ceea_11ea_a001_6c96cfdfa5edrow0_col13\" class=\"data row0 col13\" >False</td>\n",
       "                        <td id=\"T_b07073b6_ceea_11ea_a001_6c96cfdfa5edrow0_col14\" class=\"data row0 col14\" >False</td>\n",
       "            </tr>\n",
       "            <tr>\n",
       "                        <th id=\"T_b07073b6_ceea_11ea_a001_6c96cfdfa5edlevel0_row1\" class=\"row_heading level0 row1\" >male</th>\n",
       "                        <td id=\"T_b07073b6_ceea_11ea_a001_6c96cfdfa5edrow1_col0\" class=\"data row1 col0\" >True</td>\n",
       "                        <td id=\"T_b07073b6_ceea_11ea_a001_6c96cfdfa5edrow1_col1\" class=\"data row1 col1\" >True</td>\n",
       "                        <td id=\"T_b07073b6_ceea_11ea_a001_6c96cfdfa5edrow1_col2\" class=\"data row1 col2\" >True</td>\n",
       "                        <td id=\"T_b07073b6_ceea_11ea_a001_6c96cfdfa5edrow1_col3\" class=\"data row1 col3\" >True</td>\n",
       "                        <td id=\"T_b07073b6_ceea_11ea_a001_6c96cfdfa5edrow1_col4\" class=\"data row1 col4\" >True</td>\n",
       "                        <td id=\"T_b07073b6_ceea_11ea_a001_6c96cfdfa5edrow1_col5\" class=\"data row1 col5\" >True</td>\n",
       "                        <td id=\"T_b07073b6_ceea_11ea_a001_6c96cfdfa5edrow1_col6\" class=\"data row1 col6\" >True</td>\n",
       "                        <td id=\"T_b07073b6_ceea_11ea_a001_6c96cfdfa5edrow1_col7\" class=\"data row1 col7\" >True</td>\n",
       "                        <td id=\"T_b07073b6_ceea_11ea_a001_6c96cfdfa5edrow1_col8\" class=\"data row1 col8\" >True</td>\n",
       "                        <td id=\"T_b07073b6_ceea_11ea_a001_6c96cfdfa5edrow1_col9\" class=\"data row1 col9\" >True</td>\n",
       "                        <td id=\"T_b07073b6_ceea_11ea_a001_6c96cfdfa5edrow1_col10\" class=\"data row1 col10\" >True</td>\n",
       "                        <td id=\"T_b07073b6_ceea_11ea_a001_6c96cfdfa5edrow1_col11\" class=\"data row1 col11\" >True</td>\n",
       "                        <td id=\"T_b07073b6_ceea_11ea_a001_6c96cfdfa5edrow1_col12\" class=\"data row1 col12\" >True</td>\n",
       "                        <td id=\"T_b07073b6_ceea_11ea_a001_6c96cfdfa5edrow1_col13\" class=\"data row1 col13\" >True</td>\n",
       "                        <td id=\"T_b07073b6_ceea_11ea_a001_6c96cfdfa5edrow1_col14\" class=\"data row1 col14\" >True</td>\n",
       "            </tr>\n",
       "            <tr>\n",
       "                        <th id=\"T_b07073b6_ceea_11ea_a001_6c96cfdfa5edlevel0_row2\" class=\"row_heading level0 row2\" >all</th>\n",
       "                        <td id=\"T_b07073b6_ceea_11ea_a001_6c96cfdfa5edrow2_col0\" class=\"data row2 col0\" >True</td>\n",
       "                        <td id=\"T_b07073b6_ceea_11ea_a001_6c96cfdfa5edrow2_col1\" class=\"data row2 col1\" >True</td>\n",
       "                        <td id=\"T_b07073b6_ceea_11ea_a001_6c96cfdfa5edrow2_col2\" class=\"data row2 col2\" >True</td>\n",
       "                        <td id=\"T_b07073b6_ceea_11ea_a001_6c96cfdfa5edrow2_col3\" class=\"data row2 col3\" >True</td>\n",
       "                        <td id=\"T_b07073b6_ceea_11ea_a001_6c96cfdfa5edrow2_col4\" class=\"data row2 col4\" >True</td>\n",
       "                        <td id=\"T_b07073b6_ceea_11ea_a001_6c96cfdfa5edrow2_col5\" class=\"data row2 col5\" >True</td>\n",
       "                        <td id=\"T_b07073b6_ceea_11ea_a001_6c96cfdfa5edrow2_col6\" class=\"data row2 col6\" >True</td>\n",
       "                        <td id=\"T_b07073b6_ceea_11ea_a001_6c96cfdfa5edrow2_col7\" class=\"data row2 col7\" >True</td>\n",
       "                        <td id=\"T_b07073b6_ceea_11ea_a001_6c96cfdfa5edrow2_col8\" class=\"data row2 col8\" >True</td>\n",
       "                        <td id=\"T_b07073b6_ceea_11ea_a001_6c96cfdfa5edrow2_col9\" class=\"data row2 col9\" >False</td>\n",
       "                        <td id=\"T_b07073b6_ceea_11ea_a001_6c96cfdfa5edrow2_col10\" class=\"data row2 col10\" >True</td>\n",
       "                        <td id=\"T_b07073b6_ceea_11ea_a001_6c96cfdfa5edrow2_col11\" class=\"data row2 col11\" >False</td>\n",
       "                        <td id=\"T_b07073b6_ceea_11ea_a001_6c96cfdfa5edrow2_col12\" class=\"data row2 col12\" >True</td>\n",
       "                        <td id=\"T_b07073b6_ceea_11ea_a001_6c96cfdfa5edrow2_col13\" class=\"data row2 col13\" >False</td>\n",
       "                        <td id=\"T_b07073b6_ceea_11ea_a001_6c96cfdfa5edrow2_col14\" class=\"data row2 col14\" >False</td>\n",
       "            </tr>\n",
       "    </tbody></table>"
      ],
      "text/plain": [
       "<pandas.io.formats.style.Styler at 0x7fb94a9a9518>"
      ]
     },
     "execution_count": 183,
     "metadata": {},
     "output_type": "execute_result"
    }
   ],
   "source": [
    "# parity checks\n",
    "# low_threshold (0.8) < *_metric/white_metric < (high_threshold) 1.25 => parity, else disparity \n",
    "\n",
    "# init frame for parity\n",
    "par_frame = pd.DataFrame(index=sex_levels, \n",
    "                         columns=[col + ' Parity' for col in metrics_frame.columns])\n",
    "# nested loop through: \n",
    "# - races\n",
    "# - disparity metrics\n",
    "for i, _ in enumerate(sex_levels):\n",
    "    for j, _ in enumerate(par_frame.columns):\n",
    "        par_frame.iat[i, j] = (parity_threshold_low < disp_frame.iat[i, j] < parity_threshold_hi)\n",
    "\n",
    "# add overall parity checks\n",
    "# Type I Parity: Fairness in both FDR Parity and FPR Parity\n",
    "# Type II Parity: Fairness in both FOR Parity and FNR Parity\n",
    "# Equalized Odds: Fairness in both FPR Parity and TPR Parity\n",
    "# Supervised Fairness: Fairness in both Type I and Type II Parity\n",
    "# Overall Fairness: Fairness across all parities for all metrics\n",
    "par_frame['Type I Parity'] = (par_frame['False Discovery Rate Parity']) & (par_frame['False Positive Rate Parity'])\n",
    "par_frame['Type II Parity'] = (par_frame['False Omissions Rate Parity']) & (par_frame['False Negative Rate Parity'])\n",
    "par_frame['Equalized Odds'] = (par_frame['False Positive Rate Parity']) & (par_frame['True Positive Rate Parity'])\n",
    "par_frame['Supervised Fairness'] = (par_frame['Type I Parity']) & (par_frame['Type II Parity'])\n",
    "par_frame['Overall Fairness'] = par_frame.all(axis='columns')\n",
    "par_frame.loc['all', :] = par_frame.all(axis='index')\n",
    "    \n",
    "# small utility function to format pandas table output    \n",
    "def color_false_red(val):\n",
    "\n",
    "    color = 'red' if not val else 'blue'\n",
    "    return 'color: %s' % color \n",
    "    \n",
    "par_frame.style.applymap(color_false_red)"
   ]
  },
  {
   "cell_type": "markdown",
   "metadata": {},
   "source": [
    "The model is still suffering from a minor disparity problem due to it's propensity to make false negative predictions for males. To address such bias, users could tune the GBM cutoff or regularization, could try new methods for reweighing data prior to model training, try new modeling methods specifically designed for fairness, or post-process the decisions. Checkout the IBM AIF360 package for some of these techniques: http://aif360.mybluemix.net/. Before attempting remediation here, more traditional fair lending measures will be assessed and, local, or individual, fairness will also be investigated. "
   ]
  },
  {
   "cell_type": "markdown",
   "metadata": {},
   "source": [
    "# 7. Traditional Fair Lending Measures\n",
    "\n",
    "Along with adverse impact ratio (AIR), several measures have long-standing legal precedence in fair lending, including marginal effect and standardized mean difference. These measures are calculated and discussed here."
   ]
  },
  {
   "cell_type": "markdown",
   "metadata": {},
   "source": [
    "#### Simple function to calculate adverse impact ratio (AIR)\n",
    "AIR is perhaps the most well-known discrimination measure. It was first delineated by the U.S. Equal Employment Opportunity Commission (EEOC) and AIR is associated with the convenient 4/5ths, or 0.8, cutoff threshold. AIR values below 0.8 can be considered evidence of illegal discrimination in many lending or employment scenarios in the U.S."
   ]
  },
  {
   "cell_type": "code",
   "execution_count": 184,
   "metadata": {},
   "outputs": [
    {
     "name": "stdout",
     "output_type": "stream",
     "text": [
      "Male proportion accepted: 0.770\n",
      "Female proportion accepted: 0.796\n",
      "Adverse impact ratio: 1.034\n"
     ]
    }
   ],
   "source": [
    "def air(reference, protected):\n",
    "\n",
    "    \"\"\" Calculates the adverse impact ratio as a quotient between protected and \n",
    "        reference group acceptance rates: protected_prop/reference_prop. \n",
    "        Prints intermediate values. Tightly coupled to cm_dict. \n",
    "    \n",
    "    Args:\n",
    "        reference: name of reference group in cm_dict as a string.\n",
    "        protected: name of protected group in cm_dict as a string.\n",
    "\n",
    "    Returns:\n",
    "        AIR as a formatted string. \n",
    "        \n",
    "    \"\"\"\n",
    "\n",
    "    # reference group summary\n",
    "    reference_accepted = float(cm_dict[reference].iat[1,0] + cm_dict[reference].iat[1,1]) # predicted 0's\n",
    "    reference_total = float(cm_dict[reference].sum().sum())\n",
    "    reference_prop = reference_accepted/reference_total\n",
    "    print(reference.title() + ' proportion accepted: %.3f' % reference_prop)\n",
    "    \n",
    "    # protected group summary\n",
    "    protected_accepted = float(cm_dict[protected].iat[1,0] + cm_dict[protected].iat[1,1]) # predicted 0's\n",
    "    protected_total = float(cm_dict[protected].sum().sum())\n",
    "    protected_prop = protected_accepted/protected_total\n",
    "    print(protected.title() + ' proportion accepted: %.3f' % protected_prop)\n",
    "\n",
    "    # return adverse impact ratio\n",
    "    return 'Adverse impact ratio: %.3f' % (protected_prop/reference_prop)\n",
    "\n",
    "print(air('male', 'female'))"
   ]
  },
  {
   "cell_type": "markdown",
   "metadata": {},
   "source": [
    "Typical desirable ranges of AIR are above the 0.8 marker set by the 4/5ths rule. Here we see an almost ideal result where the protected and reference groups have very similar acceptance rates and AIR is near 1. "
   ]
  },
  {
   "cell_type": "markdown",
   "metadata": {},
   "source": [
    "#### Simple function to calculate marginal effect\n",
    "Marginal effect describes the difference between the percent of the reference group awarded a loan and the percent of the protected group awarded a loan under a model. "
   ]
  },
  {
   "cell_type": "code",
   "execution_count": 185,
   "metadata": {},
   "outputs": [
    {
     "name": "stdout",
     "output_type": "stream",
     "text": [
      "Male accepted: 77.05%\n",
      "Female accepted: 79.64%\n",
      "Marginal effect: -2.60%\n"
     ]
    }
   ],
   "source": [
    "def marginal_effect(reference, protected):\n",
    "\n",
    "    \"\"\" Calculates the marginal effect as a percentage difference between a reference and \n",
    "        a protected group: reference_percent - protected_percent. Prints intermediate values. \n",
    "        Tightly coupled to cm_dict. \n",
    "    \n",
    "    Args:\n",
    "        reference: name of reference group in cm_dict as a string.\n",
    "        protected: name of protected group in cm_dict as a string.\n",
    "\n",
    "    Returns:\n",
    "        Marginal effect as a formatted string. \n",
    "        \n",
    "    \"\"\"\n",
    "    \n",
    "    # reference group summary\n",
    "    reference_accepted = float(cm_dict[reference].iat[1,0] + cm_dict[reference].iat[1,1]) # predicted 0's\n",
    "    reference_total = float(cm_dict[reference].sum().sum())\n",
    "    reference_percent = 100*(reference_accepted/reference_total)\n",
    "    print(reference.title() + ' accepted: %.2f%%' % reference_percent)\n",
    "    \n",
    "    # protected group summary\n",
    "    protected_accepted = float(cm_dict[protected].iat[1,0] + cm_dict[protected].iat[1,1]) # predicted 0's\n",
    "    protected_total = float(cm_dict[protected].sum().sum())\n",
    "    protected_percent = 100*(protected_accepted/protected_total)\n",
    "    print(protected.title() + ' accepted: %.2f%%' % protected_percent)\n",
    "    \n",
    "    # return marginal effect\n",
    "    return 'Marginal effect: %.2f%%' % (reference_percent - protected_percent)\n",
    "\n",
    "print(marginal_effect('male', 'female'))"
   ]
  },
  {
   "cell_type": "markdown",
   "metadata": {},
   "source": [
    "About 77% of men are awarded a loan by the model. About 79.6% of women are awarded a loan. This results in a marginal effect of -2.60%. Given that the marginal effect is negative, indicating that a higher percentage of individuals in the protected group were awarded a loan than in the reference group, this value would likely not indicate a discrimination problem in most scenarios. The magnitude of the marginal effect is also relatively small, another sign that discrimination concerning SEX is low under the model. Generally, larger marginal effects may be tolerated in newer credit products, whereas smaller marginal effects are expected in established credit products."
   ]
  },
  {
   "cell_type": "markdown",
   "metadata": {},
   "source": [
    "#### Standardized mean difference\n",
    "The standardized mean difference (SMD), i.e. Cohen's D, is the mean value of the prediction for the protected group minus the mean prediction for the reference group, all divided by the standard deviation of the prediction. Like AIR, SMD has some prescribed thresholds: 0.2, 0.5, and 0.8 for small, medium, and large differences, respectively. The standardized mean difference can also be used on continuous values like credit limits or loan amounts."
   ]
  },
  {
   "cell_type": "code",
   "execution_count": 186,
   "metadata": {},
   "outputs": [
    {
     "name": "stdout",
     "output_type": "stream",
     "text": [
      "Male mean yhat: 0.22\n",
      "Female mean yhat: 0.21\n",
      "P_Default_Next_Month std. dev.:  0.18\n",
      "Standardized Mean Difference: -0.08\n"
     ]
    }
   ],
   "source": [
    "def smd(frame, yhat, j, reference, protected):\n",
    "    \n",
    "    \"\"\" Calculates standardized mean difference between a protected and reference group:\n",
    "    (mean(yhat | j=protected) - mean(yhat | j=reference))/sigma(yhat). \n",
    "    Prints intermediate values. \n",
    "    \n",
    "    Args:\n",
    "        frame: Pandas dataframe containing j and predicted (yhat) values.\n",
    "        yhat: Name of predicted value column.\n",
    "        j: name of demographic column containing reference and protected group labels. \n",
    "        reference: name of reference group in j.\n",
    "        protected: name of protected group in j. \n",
    "\n",
    "    Returns:\n",
    "       Standardized mean difference as a formatted string.\n",
    "       \n",
    "    \"\"\"\n",
    "    \n",
    "    # yhat mean for j=reference\n",
    "    reference_yhat_mean = frame[frame[j] == reference][yhat].mean()\n",
    "    print(reference.title() + ' mean yhat: %.2f' % reference_yhat_mean)\n",
    "    \n",
    "    #yhat mean for j=protected \n",
    "    protected_yhat_mean = frame[frame[j] == protected][yhat].mean()\n",
    "    print(protected.title() + ' mean yhat: %.2f' % protected_yhat_mean)\n",
    "    \n",
    "    # std for yhat\n",
    "    sigma = frame[yhat].std()\n",
    "    print(yhat.title() + ' std. dev.:  %.2f' % sigma)\n",
    "    \n",
    "    return 'Standardized Mean Difference: %.2f' % ((protected_yhat_mean - reference_yhat_mean)/sigma)\n",
    "    \n",
    "print(smd(test_yhat, 'p_DEFAULT_NEXT_MONTH', 'SEX', 'male', 'female'))"
   ]
  },
  {
   "cell_type": "markdown",
   "metadata": {},
   "source": [
    "For this model, in the test set, men receive a higher average probability of default than do women. This difference is evident even after standardizing with the standard deviation of the predictions. However, the difference is quite small, below the 0.2 threshold for a small difference. SMD also points to low disparity between men and women under this model."
   ]
  },
  {
   "cell_type": "markdown",
   "metadata": {},
   "source": [
    "## 8. Investigate Individual Disparity "
   ]
  },
  {
   "cell_type": "markdown",
   "metadata": {},
   "source": [
    "In nonlinear models, similar people can be treated differenly by the model, so even if the model is mostly fair for most kinds of people, there could still be people the model treated unfairly. This could occur for multiple reasons, including the functional form of the learned model or because different variables are combined by the model to represent strong signals. If a variable is important in a dataset, model, or problem domain it's likely that a nonlinear model will find combinations of other variables to act as proxies for the problematic variable -- potentially even different combinations for different rows of data! So by simply testing for group fairness, you may miss instances of individual discrimination."
   ]
  },
  {
   "cell_type": "markdown",
   "metadata": {},
   "source": [
    "#### Augment predictions with decisions and logloss residuals for women with false positive predictions\n",
    "In this notebook, residuals for false positive predictions for women will be examined in an attempt to locate any individual instances of model discrimination. These are women who the model said would default, but they did not default. So they may have experienced some discrimination under the model."
   ]
  },
  {
   "cell_type": "code",
   "execution_count": 187,
   "metadata": {},
   "outputs": [],
   "source": [
    "test_yhat_female = test_yhat[test_yhat['SEX'] == 'female'].copy(deep=True)\n",
    "\n",
    "\n",
    "test_yhat_female['d_DEFAULT_NEXT_MONTH'] = 0\n",
    "test_yhat_female.loc[test_yhat_female[yhat] > best_cut, 'd_DEFAULT_NEXT_MONTH'] = 1\n",
    "\n",
    "test_yhat_female['r_DEFAULT_NEXT_MONTH'] = -test_yhat_female[y]*np.log(test_yhat_female[yhat]) -\\\n",
    "                       (1 - test_yhat_female[y])*np.log(1 - test_yhat_female[yhat]) \n",
    "    \n",
    "test_yhat_female_fp = test_yhat_female[(test_yhat_female[y] == 0) &\\\n",
    "                                       (test_yhat_female['d_DEFAULT_NEXT_MONTH'] == 1)]"
   ]
  },
  {
   "cell_type": "markdown",
   "metadata": {},
   "source": [
    "#### Plot logloss residuals\n",
    "There are clear high-magnitude outliers in the logloss residuals for women who were issued false positive predictions. Given that those people were the people the model was most wrong about, those predictions will be checked first, just in case something very strange happened."
   ]
  },
  {
   "cell_type": "code",
   "execution_count": 188,
   "metadata": {},
   "outputs": [
    {
     "name": "stderr",
     "output_type": "stream",
     "text": [
      "WARNING:matplotlib.legend:No handles with labels found to put in legend.\n"
     ]
    },
    {
     "data": {
      "image/png": "[encoded data removed]",
      "text/plain": [
       "<Figure size 576x576 with 1 Axes>"
      ]
     },
     "metadata": {
      "needs_background": "light"
     },
     "output_type": "display_data"
    }
   ],
   "source": [
    "# initialize figure\n",
    "fig, ax_ = plt.subplots(figsize=(8, 8))         \n",
    "\n",
    "ax_.plot(test_yhat_female_fp[yhat],\n",
    "         test_yhat_female_fp['r_DEFAULT_NEXT_MONTH'],\n",
    "         marker='o', linestyle='', alpha=0.3)\n",
    "\n",
    "# annotate plot\n",
    "_ = plt.xlabel(yhat)\n",
    "_ = plt.ylabel('r_DEFAULT_NEXT_MONTH')\n",
    "_ = ax_.legend(loc=4)\n",
    "_ = plt.title('Logloss Residuals')"
   ]
  },
  {
   "cell_type": "markdown",
   "metadata": {},
   "source": [
    "#### Examine top 3 outlying individuals"
   ]
  },
  {
   "cell_type": "code",
   "execution_count": 189,
   "metadata": {},
   "outputs": [
    {
     "data": {
      "text/html": [
       "<div>\n",
       "<style scoped>\n",
       "    .dataframe tbody tr th:only-of-type {\n",
       "        vertical-align: middle;\n",
       "    }\n",
       "\n",
       "    .dataframe tbody tr th {\n",
       "        vertical-align: top;\n",
       "    }\n",
       "\n",
       "    .dataframe thead th {\n",
       "        text-align: right;\n",
       "    }\n",
       "</style>\n",
       "<table border=\"1\" class=\"dataframe\">\n",
       "  <thead>\n",
       "    <tr style=\"text-align: right;\">\n",
       "      <th></th>\n",
       "      <th>ID</th>\n",
       "      <th>LIMIT_BAL</th>\n",
       "      <th>SEX</th>\n",
       "      <th>EDUCATION</th>\n",
       "      <th>MARRIAGE</th>\n",
       "      <th>AGE</th>\n",
       "      <th>PAY_0</th>\n",
       "      <th>PAY_2</th>\n",
       "      <th>PAY_3</th>\n",
       "      <th>PAY_4</th>\n",
       "      <th>PAY_5</th>\n",
       "      <th>PAY_6</th>\n",
       "      <th>BILL_AMT1</th>\n",
       "      <th>BILL_AMT2</th>\n",
       "      <th>BILL_AMT3</th>\n",
       "      <th>BILL_AMT4</th>\n",
       "      <th>BILL_AMT5</th>\n",
       "      <th>BILL_AMT6</th>\n",
       "      <th>PAY_AMT1</th>\n",
       "      <th>PAY_AMT2</th>\n",
       "      <th>PAY_AMT3</th>\n",
       "      <th>PAY_AMT4</th>\n",
       "      <th>PAY_AMT5</th>\n",
       "      <th>PAY_AMT6</th>\n",
       "      <th>DEFAULT_NEXT_MONTH</th>\n",
       "      <th>p_DEFAULT_NEXT_MONTH</th>\n",
       "      <th>d_DEFAULT_NEXT_MONTH</th>\n",
       "      <th>r_DEFAULT_NEXT_MONTH</th>\n",
       "    </tr>\n",
       "  </thead>\n",
       "  <tbody>\n",
       "    <tr>\n",
       "      <td>1760</td>\n",
       "      <td>5916</td>\n",
       "      <td>110000</td>\n",
       "      <td>female</td>\n",
       "      <td>graduate school</td>\n",
       "      <td>married</td>\n",
       "      <td>41</td>\n",
       "      <td>2</td>\n",
       "      <td>2</td>\n",
       "      <td>7</td>\n",
       "      <td>7</td>\n",
       "      <td>7</td>\n",
       "      <td>7</td>\n",
       "      <td>150</td>\n",
       "      <td>150</td>\n",
       "      <td>150</td>\n",
       "      <td>150</td>\n",
       "      <td>150</td>\n",
       "      <td>150</td>\n",
       "      <td>0</td>\n",
       "      <td>0</td>\n",
       "      <td>0</td>\n",
       "      <td>0</td>\n",
       "      <td>0</td>\n",
       "      <td>0</td>\n",
       "      <td>0</td>\n",
       "      <td>0.911895</td>\n",
       "      <td>1</td>\n",
       "      <td>2.429222</td>\n",
       "    </tr>\n",
       "    <tr>\n",
       "      <td>929</td>\n",
       "      <td>3087</td>\n",
       "      <td>30000</td>\n",
       "      <td>female</td>\n",
       "      <td>university</td>\n",
       "      <td>single</td>\n",
       "      <td>24</td>\n",
       "      <td>2</td>\n",
       "      <td>2</td>\n",
       "      <td>7</td>\n",
       "      <td>7</td>\n",
       "      <td>7</td>\n",
       "      <td>7</td>\n",
       "      <td>300</td>\n",
       "      <td>300</td>\n",
       "      <td>300</td>\n",
       "      <td>300</td>\n",
       "      <td>300</td>\n",
       "      <td>300</td>\n",
       "      <td>0</td>\n",
       "      <td>0</td>\n",
       "      <td>0</td>\n",
       "      <td>0</td>\n",
       "      <td>0</td>\n",
       "      <td>0</td>\n",
       "      <td>0</td>\n",
       "      <td>0.907065</td>\n",
       "      <td>1</td>\n",
       "      <td>2.375853</td>\n",
       "    </tr>\n",
       "    <tr>\n",
       "      <td>5731</td>\n",
       "      <td>19316</td>\n",
       "      <td>110000</td>\n",
       "      <td>female</td>\n",
       "      <td>graduate school</td>\n",
       "      <td>married</td>\n",
       "      <td>41</td>\n",
       "      <td>3</td>\n",
       "      <td>2</td>\n",
       "      <td>2</td>\n",
       "      <td>7</td>\n",
       "      <td>7</td>\n",
       "      <td>7</td>\n",
       "      <td>150</td>\n",
       "      <td>150</td>\n",
       "      <td>150</td>\n",
       "      <td>150</td>\n",
       "      <td>150</td>\n",
       "      <td>150</td>\n",
       "      <td>0</td>\n",
       "      <td>0</td>\n",
       "      <td>0</td>\n",
       "      <td>0</td>\n",
       "      <td>0</td>\n",
       "      <td>0</td>\n",
       "      <td>0</td>\n",
       "      <td>0.902306</td>\n",
       "      <td>1</td>\n",
       "      <td>2.325911</td>\n",
       "    </tr>\n",
       "  </tbody>\n",
       "</table>\n",
       "</div>"
      ],
      "text/plain": [
       "         ID  LIMIT_BAL     SEX        EDUCATION MARRIAGE  AGE  PAY_0  PAY_2  \\\n",
       "1760   5916     110000  female  graduate school  married   41      2      2   \n",
       "929    3087      30000  female       university   single   24      2      2   \n",
       "5731  19316     110000  female  graduate school  married   41      3      2   \n",
       "\n",
       "      PAY_3  PAY_4  PAY_5  PAY_6  BILL_AMT1  BILL_AMT2  BILL_AMT3  BILL_AMT4  \\\n",
       "1760      7      7      7      7        150        150        150        150   \n",
       "929       7      7      7      7        300        300        300        300   \n",
       "5731      2      7      7      7        150        150        150        150   \n",
       "\n",
       "      BILL_AMT5  BILL_AMT6  PAY_AMT1  PAY_AMT2  PAY_AMT3  PAY_AMT4  PAY_AMT5  \\\n",
       "1760        150        150         0         0         0         0         0   \n",
       "929         300        300         0         0         0         0         0   \n",
       "5731        150        150         0         0         0         0         0   \n",
       "\n",
       "      PAY_AMT6  DEFAULT_NEXT_MONTH  p_DEFAULT_NEXT_MONTH  \\\n",
       "1760         0                   0              0.911895   \n",
       "929          0                   0              0.907065   \n",
       "5731         0                   0              0.902306   \n",
       "\n",
       "      d_DEFAULT_NEXT_MONTH  r_DEFAULT_NEXT_MONTH  \n",
       "1760                     1              2.429222  \n",
       "929                      1              2.375853  \n",
       "5731                     1              2.325911  "
      ]
     },
     "execution_count": 189,
     "metadata": {},
     "output_type": "execute_result"
    }
   ],
   "source": [
    "test_yhat_female_fp.sort_values(by='r_DEFAULT_NEXT_MONTH', ascending=False).head(n=3)"
   ]
  },
  {
   "cell_type": "markdown",
   "metadata": {},
   "source": [
    "Looking at the top 3 highest residual predictions, it's clear these were customers with a horrible payment track record that somehow were able to make a last-minute payment. Although it's not possible to say they were not discrimated against by the model, it seems very clear that the model was justified to issue default predictions for these women. "
   ]
  },
  {
   "cell_type": "markdown",
   "metadata": {},
   "source": [
    "#### Adverse Action Notices \n",
    "Anyone that is denied further credit due to this model in the U.S. must be given reasons why. Shapley values provide a mechanism to rank the contributions of input variables to any given model decision and may be suitable for adverse action notice generation. Because the highest residual false positive female seems like a probable candidate to be rejected for further credit at some point, Shapley values can be used to say why according to this model."
   ]
  },
  {
   "cell_type": "code",
   "execution_count": 190,
   "metadata": {},
   "outputs": [
    {
     "name": "stdout",
     "output_type": "stream",
     "text": [
      "Sum of Shapley contributions and bias: 2.3369910083711147\n",
      "Model prediction in margin space: 2.336991189841194\n"
     ]
    },
    {
     "data": {
      "image/png": "[encoded data removed]",
      "text/plain": [
       "<Figure size 432x288 with 1 Axes>"
      ]
     },
     "metadata": {
      "needs_background": "light"
     },
     "output_type": "display_data"
    }
   ],
   "source": [
    "# select highest residual female false positive\n",
    "row = test_yhat_female_fp.sort_values(by='r_DEFAULT_NEXT_MONTH', ascending=False).head(n=1)\n",
    "\n",
    "# search for her index in shap_values array\n",
    "# create Pandas DataFrame and plot\n",
    "s_df = pd.DataFrame(shap_values[row.index[0], :].reshape(len(X), 1), columns=['Reason Codes'], index=X)\n",
    "_ = s_df.sort_values(by='Reason Codes', ascending=False).plot(kind='bar', legend=False, \n",
    "                                                              title='Shapley Contributions to Predictions')\n",
    "\n",
    "# check that Shapley is locally accurate\n",
    "print('Sum of Shapley contributions and bias:', s_df.sum()[0] + contributions_matrix[0, -1])\n",
    "print('Model prediction in margin space:', np.log(row[yhat].values/(1 - row[yhat].values))[0])"
   ]
  },
  {
   "cell_type": "markdown",
   "metadata": {},
   "source": [
    "Combining the Shapley values with the individual's data values allows ranked reasons to be given for denial of credit:\n",
    "\n",
    "1. Two months late on most recent payment\n",
    "2. Two months late on second most recent payment\n",
    "3. Seven months late on sixth most recent payment\n",
    "\n",
    "Because monotonicity contraints were used during model training, these reasons should be consistent across all denial decisions meaning that no one who was denied credit would have a better value for an input variable than someone who was granted credit."
   ]
  },
  {
   "cell_type": "markdown",
   "metadata": {},
   "source": [
    "#### Examine low logloss residual individuals"
   ]
  },
  {
   "cell_type": "markdown",
   "metadata": {},
   "source": [
    "Given that high-residual individuals were not clearly discriminated against, their low-residual counter parts could be interesting to investigate next."
   ]
  },
  {
   "cell_type": "code",
   "execution_count": 191,
   "metadata": {},
   "outputs": [
    {
     "data": {
      "text/html": [
       "<div>\n",
       "<style scoped>\n",
       "    .dataframe tbody tr th:only-of-type {\n",
       "        vertical-align: middle;\n",
       "    }\n",
       "\n",
       "    .dataframe tbody tr th {\n",
       "        vertical-align: top;\n",
       "    }\n",
       "\n",
       "    .dataframe thead th {\n",
       "        text-align: right;\n",
       "    }\n",
       "</style>\n",
       "<table border=\"1\" class=\"dataframe\">\n",
       "  <thead>\n",
       "    <tr style=\"text-align: right;\">\n",
       "      <th></th>\n",
       "      <th>ID</th>\n",
       "      <th>LIMIT_BAL</th>\n",
       "      <th>SEX</th>\n",
       "      <th>EDUCATION</th>\n",
       "      <th>MARRIAGE</th>\n",
       "      <th>AGE</th>\n",
       "      <th>PAY_0</th>\n",
       "      <th>PAY_2</th>\n",
       "      <th>PAY_3</th>\n",
       "      <th>PAY_4</th>\n",
       "      <th>PAY_5</th>\n",
       "      <th>PAY_6</th>\n",
       "      <th>BILL_AMT1</th>\n",
       "      <th>BILL_AMT2</th>\n",
       "      <th>BILL_AMT3</th>\n",
       "      <th>BILL_AMT4</th>\n",
       "      <th>BILL_AMT5</th>\n",
       "      <th>BILL_AMT6</th>\n",
       "      <th>PAY_AMT1</th>\n",
       "      <th>PAY_AMT2</th>\n",
       "      <th>PAY_AMT3</th>\n",
       "      <th>PAY_AMT4</th>\n",
       "      <th>PAY_AMT5</th>\n",
       "      <th>PAY_AMT6</th>\n",
       "      <th>DEFAULT_NEXT_MONTH</th>\n",
       "      <th>p_DEFAULT_NEXT_MONTH</th>\n",
       "      <th>d_DEFAULT_NEXT_MONTH</th>\n",
       "      <th>r_DEFAULT_NEXT_MONTH</th>\n",
       "    </tr>\n",
       "  </thead>\n",
       "  <tbody>\n",
       "    <tr>\n",
       "      <td>5869</td>\n",
       "      <td>19776</td>\n",
       "      <td>110000</td>\n",
       "      <td>female</td>\n",
       "      <td>university</td>\n",
       "      <td>married</td>\n",
       "      <td>42</td>\n",
       "      <td>0</td>\n",
       "      <td>0</td>\n",
       "      <td>0</td>\n",
       "      <td>2</td>\n",
       "      <td>2</td>\n",
       "      <td>0</td>\n",
       "      <td>5174</td>\n",
       "      <td>6184</td>\n",
       "      <td>8383</td>\n",
       "      <td>8394</td>\n",
       "      <td>7709</td>\n",
       "      <td>8084</td>\n",
       "      <td>1106</td>\n",
       "      <td>2393</td>\n",
       "      <td>300</td>\n",
       "      <td>0</td>\n",
       "      <td>500</td>\n",
       "      <td>500</td>\n",
       "      <td>0</td>\n",
       "      <td>0.270166</td>\n",
       "      <td>1</td>\n",
       "      <td>0.314938</td>\n",
       "    </tr>\n",
       "    <tr>\n",
       "      <td>2959</td>\n",
       "      <td>9916</td>\n",
       "      <td>20000</td>\n",
       "      <td>female</td>\n",
       "      <td>graduate school</td>\n",
       "      <td>single</td>\n",
       "      <td>24</td>\n",
       "      <td>-1</td>\n",
       "      <td>-1</td>\n",
       "      <td>-2</td>\n",
       "      <td>-2</td>\n",
       "      <td>-2</td>\n",
       "      <td>-2</td>\n",
       "      <td>379</td>\n",
       "      <td>0</td>\n",
       "      <td>0</td>\n",
       "      <td>0</td>\n",
       "      <td>0</td>\n",
       "      <td>0</td>\n",
       "      <td>0</td>\n",
       "      <td>0</td>\n",
       "      <td>0</td>\n",
       "      <td>0</td>\n",
       "      <td>0</td>\n",
       "      <td>0</td>\n",
       "      <td>0</td>\n",
       "      <td>0.270243</td>\n",
       "      <td>1</td>\n",
       "      <td>0.315044</td>\n",
       "    </tr>\n",
       "    <tr>\n",
       "      <td>3508</td>\n",
       "      <td>11755</td>\n",
       "      <td>160000</td>\n",
       "      <td>female</td>\n",
       "      <td>university</td>\n",
       "      <td>single</td>\n",
       "      <td>27</td>\n",
       "      <td>1</td>\n",
       "      <td>-2</td>\n",
       "      <td>-1</td>\n",
       "      <td>0</td>\n",
       "      <td>0</td>\n",
       "      <td>-2</td>\n",
       "      <td>0</td>\n",
       "      <td>0</td>\n",
       "      <td>6204</td>\n",
       "      <td>6204</td>\n",
       "      <td>0</td>\n",
       "      <td>0</td>\n",
       "      <td>0</td>\n",
       "      <td>6204</td>\n",
       "      <td>0</td>\n",
       "      <td>0</td>\n",
       "      <td>0</td>\n",
       "      <td>0</td>\n",
       "      <td>0</td>\n",
       "      <td>0.270293</td>\n",
       "      <td>1</td>\n",
       "      <td>0.315112</td>\n",
       "    </tr>\n",
       "    <tr>\n",
       "      <td>321</td>\n",
       "      <td>1057</td>\n",
       "      <td>190000</td>\n",
       "      <td>female</td>\n",
       "      <td>graduate school</td>\n",
       "      <td>single</td>\n",
       "      <td>33</td>\n",
       "      <td>1</td>\n",
       "      <td>2</td>\n",
       "      <td>0</td>\n",
       "      <td>0</td>\n",
       "      <td>0</td>\n",
       "      <td>0</td>\n",
       "      <td>115056</td>\n",
       "      <td>108137</td>\n",
       "      <td>89722</td>\n",
       "      <td>69861</td>\n",
       "      <td>49894</td>\n",
       "      <td>49727</td>\n",
       "      <td>0</td>\n",
       "      <td>4413</td>\n",
       "      <td>2942</td>\n",
       "      <td>2000</td>\n",
       "      <td>1583</td>\n",
       "      <td>1500</td>\n",
       "      <td>0</td>\n",
       "      <td>0.271024</td>\n",
       "      <td>1</td>\n",
       "      <td>0.316114</td>\n",
       "    </tr>\n",
       "    <tr>\n",
       "      <td>8353</td>\n",
       "      <td>28028</td>\n",
       "      <td>240000</td>\n",
       "      <td>female</td>\n",
       "      <td>university</td>\n",
       "      <td>married</td>\n",
       "      <td>32</td>\n",
       "      <td>1</td>\n",
       "      <td>-2</td>\n",
       "      <td>-2</td>\n",
       "      <td>-1</td>\n",
       "      <td>-1</td>\n",
       "      <td>-1</td>\n",
       "      <td>0</td>\n",
       "      <td>0</td>\n",
       "      <td>0</td>\n",
       "      <td>262</td>\n",
       "      <td>0</td>\n",
       "      <td>1389</td>\n",
       "      <td>0</td>\n",
       "      <td>0</td>\n",
       "      <td>262</td>\n",
       "      <td>0</td>\n",
       "      <td>1389</td>\n",
       "      <td>0</td>\n",
       "      <td>0</td>\n",
       "      <td>0.271053</td>\n",
       "      <td>1</td>\n",
       "      <td>0.316154</td>\n",
       "    </tr>\n",
       "    <tr>\n",
       "      <td>...</td>\n",
       "      <td>...</td>\n",
       "      <td>...</td>\n",
       "      <td>...</td>\n",
       "      <td>...</td>\n",
       "      <td>...</td>\n",
       "      <td>...</td>\n",
       "      <td>...</td>\n",
       "      <td>...</td>\n",
       "      <td>...</td>\n",
       "      <td>...</td>\n",
       "      <td>...</td>\n",
       "      <td>...</td>\n",
       "      <td>...</td>\n",
       "      <td>...</td>\n",
       "      <td>...</td>\n",
       "      <td>...</td>\n",
       "      <td>...</td>\n",
       "      <td>...</td>\n",
       "      <td>...</td>\n",
       "      <td>...</td>\n",
       "      <td>...</td>\n",
       "      <td>...</td>\n",
       "      <td>...</td>\n",
       "      <td>...</td>\n",
       "      <td>...</td>\n",
       "      <td>...</td>\n",
       "      <td>...</td>\n",
       "      <td>...</td>\n",
       "    </tr>\n",
       "    <tr>\n",
       "      <td>2570</td>\n",
       "      <td>8625</td>\n",
       "      <td>80000</td>\n",
       "      <td>female</td>\n",
       "      <td>graduate school</td>\n",
       "      <td>single</td>\n",
       "      <td>25</td>\n",
       "      <td>1</td>\n",
       "      <td>-2</td>\n",
       "      <td>-1</td>\n",
       "      <td>-1</td>\n",
       "      <td>-2</td>\n",
       "      <td>-2</td>\n",
       "      <td>0</td>\n",
       "      <td>0</td>\n",
       "      <td>300</td>\n",
       "      <td>0</td>\n",
       "      <td>0</td>\n",
       "      <td>0</td>\n",
       "      <td>0</td>\n",
       "      <td>300</td>\n",
       "      <td>0</td>\n",
       "      <td>0</td>\n",
       "      <td>0</td>\n",
       "      <td>500</td>\n",
       "      <td>0</td>\n",
       "      <td>0.311165</td>\n",
       "      <td>1</td>\n",
       "      <td>0.372754</td>\n",
       "    </tr>\n",
       "    <tr>\n",
       "      <td>3227</td>\n",
       "      <td>10827</td>\n",
       "      <td>120000</td>\n",
       "      <td>female</td>\n",
       "      <td>graduate school</td>\n",
       "      <td>single</td>\n",
       "      <td>34</td>\n",
       "      <td>1</td>\n",
       "      <td>-2</td>\n",
       "      <td>-2</td>\n",
       "      <td>-2</td>\n",
       "      <td>-2</td>\n",
       "      <td>-2</td>\n",
       "      <td>0</td>\n",
       "      <td>0</td>\n",
       "      <td>0</td>\n",
       "      <td>0</td>\n",
       "      <td>0</td>\n",
       "      <td>0</td>\n",
       "      <td>0</td>\n",
       "      <td>0</td>\n",
       "      <td>0</td>\n",
       "      <td>0</td>\n",
       "      <td>0</td>\n",
       "      <td>0</td>\n",
       "      <td>0</td>\n",
       "      <td>0.311165</td>\n",
       "      <td>1</td>\n",
       "      <td>0.372754</td>\n",
       "    </tr>\n",
       "    <tr>\n",
       "      <td>2246</td>\n",
       "      <td>7517</td>\n",
       "      <td>80000</td>\n",
       "      <td>female</td>\n",
       "      <td>graduate school</td>\n",
       "      <td>single</td>\n",
       "      <td>52</td>\n",
       "      <td>1</td>\n",
       "      <td>-2</td>\n",
       "      <td>-2</td>\n",
       "      <td>-2</td>\n",
       "      <td>-2</td>\n",
       "      <td>-2</td>\n",
       "      <td>0</td>\n",
       "      <td>0</td>\n",
       "      <td>0</td>\n",
       "      <td>0</td>\n",
       "      <td>0</td>\n",
       "      <td>0</td>\n",
       "      <td>0</td>\n",
       "      <td>0</td>\n",
       "      <td>0</td>\n",
       "      <td>0</td>\n",
       "      <td>0</td>\n",
       "      <td>0</td>\n",
       "      <td>0</td>\n",
       "      <td>0.311165</td>\n",
       "      <td>1</td>\n",
       "      <td>0.372754</td>\n",
       "    </tr>\n",
       "    <tr>\n",
       "      <td>3292</td>\n",
       "      <td>11040</td>\n",
       "      <td>110000</td>\n",
       "      <td>female</td>\n",
       "      <td>university</td>\n",
       "      <td>married</td>\n",
       "      <td>48</td>\n",
       "      <td>1</td>\n",
       "      <td>-2</td>\n",
       "      <td>-2</td>\n",
       "      <td>-2</td>\n",
       "      <td>-2</td>\n",
       "      <td>-2</td>\n",
       "      <td>0</td>\n",
       "      <td>0</td>\n",
       "      <td>0</td>\n",
       "      <td>0</td>\n",
       "      <td>0</td>\n",
       "      <td>0</td>\n",
       "      <td>0</td>\n",
       "      <td>0</td>\n",
       "      <td>0</td>\n",
       "      <td>0</td>\n",
       "      <td>0</td>\n",
       "      <td>0</td>\n",
       "      <td>0</td>\n",
       "      <td>0.311165</td>\n",
       "      <td>1</td>\n",
       "      <td>0.372754</td>\n",
       "    </tr>\n",
       "    <tr>\n",
       "      <td>6807</td>\n",
       "      <td>22870</td>\n",
       "      <td>120000</td>\n",
       "      <td>female</td>\n",
       "      <td>university</td>\n",
       "      <td>single</td>\n",
       "      <td>29</td>\n",
       "      <td>1</td>\n",
       "      <td>-2</td>\n",
       "      <td>-2</td>\n",
       "      <td>-2</td>\n",
       "      <td>-2</td>\n",
       "      <td>-2</td>\n",
       "      <td>0</td>\n",
       "      <td>0</td>\n",
       "      <td>0</td>\n",
       "      <td>0</td>\n",
       "      <td>0</td>\n",
       "      <td>0</td>\n",
       "      <td>0</td>\n",
       "      <td>0</td>\n",
       "      <td>0</td>\n",
       "      <td>0</td>\n",
       "      <td>0</td>\n",
       "      <td>0</td>\n",
       "      <td>0</td>\n",
       "      <td>0.311165</td>\n",
       "      <td>1</td>\n",
       "      <td>0.372754</td>\n",
       "    </tr>\n",
       "  </tbody>\n",
       "</table>\n",
       "<p>150 rows × 28 columns</p>\n",
       "</div>"
      ],
      "text/plain": [
       "         ID  LIMIT_BAL     SEX        EDUCATION MARRIAGE  AGE  PAY_0  PAY_2  \\\n",
       "5869  19776     110000  female       university  married   42      0      0   \n",
       "2959   9916      20000  female  graduate school   single   24     -1     -1   \n",
       "3508  11755     160000  female       university   single   27      1     -2   \n",
       "321    1057     190000  female  graduate school   single   33      1      2   \n",
       "8353  28028     240000  female       university  married   32      1     -2   \n",
       "...     ...        ...     ...              ...      ...  ...    ...    ...   \n",
       "2570   8625      80000  female  graduate school   single   25      1     -2   \n",
       "3227  10827     120000  female  graduate school   single   34      1     -2   \n",
       "2246   7517      80000  female  graduate school   single   52      1     -2   \n",
       "3292  11040     110000  female       university  married   48      1     -2   \n",
       "6807  22870     120000  female       university   single   29      1     -2   \n",
       "\n",
       "      PAY_3  PAY_4  PAY_5  PAY_6  BILL_AMT1  BILL_AMT2  BILL_AMT3  BILL_AMT4  \\\n",
       "5869      0      2      2      0       5174       6184       8383       8394   \n",
       "2959     -2     -2     -2     -2        379          0          0          0   \n",
       "3508     -1      0      0     -2          0          0       6204       6204   \n",
       "321       0      0      0      0     115056     108137      89722      69861   \n",
       "8353     -2     -1     -1     -1          0          0          0        262   \n",
       "...     ...    ...    ...    ...        ...        ...        ...        ...   \n",
       "2570     -1     -1     -2     -2          0          0        300          0   \n",
       "3227     -2     -2     -2     -2          0          0          0          0   \n",
       "2246     -2     -2     -2     -2          0          0          0          0   \n",
       "3292     -2     -2     -2     -2          0          0          0          0   \n",
       "6807     -2     -2     -2     -2          0          0          0          0   \n",
       "\n",
       "      BILL_AMT5  BILL_AMT6  PAY_AMT1  PAY_AMT2  PAY_AMT3  PAY_AMT4  PAY_AMT5  \\\n",
       "5869       7709       8084      1106      2393       300         0       500   \n",
       "2959          0          0         0         0         0         0         0   \n",
       "3508          0          0         0      6204         0         0         0   \n",
       "321       49894      49727         0      4413      2942      2000      1583   \n",
       "8353          0       1389         0         0       262         0      1389   \n",
       "...         ...        ...       ...       ...       ...       ...       ...   \n",
       "2570          0          0         0       300         0         0         0   \n",
       "3227          0          0         0         0         0         0         0   \n",
       "2246          0          0         0         0         0         0         0   \n",
       "3292          0          0         0         0         0         0         0   \n",
       "6807          0          0         0         0         0         0         0   \n",
       "\n",
       "      PAY_AMT6  DEFAULT_NEXT_MONTH  p_DEFAULT_NEXT_MONTH  \\\n",
       "5869       500                   0              0.270166   \n",
       "2959         0                   0              0.270243   \n",
       "3508         0                   0              0.270293   \n",
       "321       1500                   0              0.271024   \n",
       "8353         0                   0              0.271053   \n",
       "...        ...                 ...                   ...   \n",
       "2570       500                   0              0.311165   \n",
       "3227         0                   0              0.311165   \n",
       "2246         0                   0              0.311165   \n",
       "3292         0                   0              0.311165   \n",
       "6807         0                   0              0.311165   \n",
       "\n",
       "      d_DEFAULT_NEXT_MONTH  r_DEFAULT_NEXT_MONTH  \n",
       "5869                     1              0.314938  \n",
       "2959                     1              0.315044  \n",
       "3508                     1              0.315112  \n",
       "321                      1              0.316114  \n",
       "8353                     1              0.316154  \n",
       "...                    ...                   ...  \n",
       "2570                     1              0.372754  \n",
       "3227                     1              0.372754  \n",
       "2246                     1              0.372754  \n",
       "3292                     1              0.372754  \n",
       "6807                     1              0.372754  \n",
       "\n",
       "[150 rows x 28 columns]"
      ]
     },
     "execution_count": 191,
     "metadata": {},
     "output_type": "execute_result"
    }
   ],
   "source": [
    "test_yhat_female_fp.sort_values(by='r_DEFAULT_NEXT_MONTH', ascending=True).head(n=150)"
   ]
  },
  {
   "cell_type": "markdown",
   "metadata": {},
   "source": [
    "Examing the low-residual false positives, it can be seen that perhaps the F1-selected cutoff is a bit too conservative. Many women just above the cutoff have missed 0-2 payments, and only been late 1-2 months on the few payments they missed, if any. This potential bias problem can be remediated by increasing the cutoff in cell 14."
   ]
  },
  {
   "cell_type": "markdown",
   "metadata": {},
   "source": [
    "#### Shutdown H2O\n",
    "After using h2o, it's typically best to shut it down. However, before doing so, users should ensure that they have saved any h2o data structures, such as models and H2OFrames, or scoring artifacts, such as POJOs and MOJOs."
   ]
  },
  {
   "cell_type": "code",
   "execution_count": null,
   "metadata": {},
   "outputs": [],
   "source": [
    "# be careful, this can erase your work!\n",
    "h2o.cluster().shutdown(prompt=True)"
   ]
  },
  {
   "cell_type": "markdown",
   "metadata": {},
   "source": [
    "#### Conclusion"
   ]
  },
  {
   "cell_type": "markdown",
   "metadata": {},
   "source": [
    "This notebook outlines a basic approach to DIA (and over-generalizes that phrase). In a complex, real-world machine learning project the hard-to-define phenomenas of sociological bias and unfairness can materialize in many ways and from many different sources. Although far from a flawless technique, the beauty of DIA is it is straightforward to implement, functions in a model-agnostic fashion on known labels and model predictions, and is applied in complex real-world fair lending situations, so it can probably be applied to your model too! \n",
    "\n",
    "Why risk being called out in the media for training an unfair model? Or why not investigate the monetary opportunity costs of type I errors and potential losses from type II errors? Why not do the right thing and investigate how your model treats people?"
   ]
  }
 ],
 "metadata": {
  "anaconda-cloud": {},
  "kernelspec": {
   "display_name": "Python 3",
   "language": "python",
   "name": "python3"
  },
  "language_info": {
   "codemirror_mode": {
    "name": "ipython",
    "version": 3
   },
   "file_extension": ".py",
   "mimetype": "text/x-python",
   "name": "python",
   "nbconvert_exporter": "python",
   "pygments_lexer": "ipython3",
   "version": "3.6.9"
  }
 },
 "nbformat": 4,
 "nbformat_minor": 2
}
